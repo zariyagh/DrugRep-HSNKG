{
  "cells": [
    {
      "attachments": {},
      "cell_type": "markdown",
      "metadata": {
        "id": "OZEjehlD9jb3"
      },
      "source": [
        "# Importing packages\n"
      ]
    },
    {
      "cell_type": "code",
      "execution_count": 1,
      "metadata": {
        "colab": {
          "base_uri": "https://localhost:8080/"
        },
        "id": "UAmyY8EpN4Ix",
        "outputId": "e8cb6ce6-0010-483e-eed5-f03ea0317762"
      },
      "outputs": [
        {
          "name": "stdout",
          "output_type": "stream",
          "text": [
            "Looking in indexes: https://pypi.org/simple, https://us-python.pkg.dev/colab-wheels/public/simple/\n",
            "Requirement already satisfied: nltk in /usr/local/lib/python3.10/dist-packages (3.8.1)\n",
            "Requirement already satisfied: click in /usr/local/lib/python3.10/dist-packages (from nltk) (8.1.3)\n",
            "Requirement already satisfied: joblib in /usr/local/lib/python3.10/dist-packages (from nltk) (1.2.0)\n",
            "Requirement already satisfied: regex>=2021.8.3 in /usr/local/lib/python3.10/dist-packages (from nltk) (2022.10.31)\n",
            "Requirement already satisfied: tqdm in /usr/local/lib/python3.10/dist-packages (from nltk) (4.65.0)\n",
            "Looking in indexes: https://pypi.org/simple, https://us-python.pkg.dev/colab-wheels/public/simple/\n",
            "Requirement already satisfied: gensim in /usr/local/lib/python3.10/dist-packages (4.3.1)\n",
            "Requirement already satisfied: numpy>=1.18.5 in /usr/local/lib/python3.10/dist-packages (from gensim) (1.22.4)\n",
            "Requirement already satisfied: scipy>=1.7.0 in /usr/local/lib/python3.10/dist-packages (from gensim) (1.10.1)\n",
            "Requirement already satisfied: smart-open>=1.8.1 in /usr/local/lib/python3.10/dist-packages (from gensim) (6.3.0)\n",
            "Looking in indexes: https://pypi.org/simple, https://us-python.pkg.dev/colab-wheels/public/simple/\n",
            "Requirement already satisfied: imbalanced-learn in /usr/local/lib/python3.10/dist-packages (0.10.1)\n",
            "Requirement already satisfied: numpy>=1.17.3 in /usr/local/lib/python3.10/dist-packages (from imbalanced-learn) (1.22.4)\n",
            "Requirement already satisfied: scipy>=1.3.2 in /usr/local/lib/python3.10/dist-packages (from imbalanced-learn) (1.10.1)\n",
            "Requirement already satisfied: scikit-learn>=1.0.2 in /usr/local/lib/python3.10/dist-packages (from imbalanced-learn) (1.2.2)\n",
            "Requirement already satisfied: joblib>=1.1.1 in /usr/local/lib/python3.10/dist-packages (from imbalanced-learn) (1.2.0)\n",
            "Requirement already satisfied: threadpoolctl>=2.0.0 in /usr/local/lib/python3.10/dist-packages (from imbalanced-learn) (3.1.0)\n"
          ]
        },
        {
          "name": "stderr",
          "output_type": "stream",
          "text": [
            "[nltk_data] Downloading package punkt to /root/nltk_data...\n",
            "[nltk_data]   Unzipping tokenizers/punkt.zip.\n"
          ]
        }
      ],
      "source": [
        "! pip install nltk\n",
        "! pip install gensim\n",
        "! pip install imbalanced-learn\n",
        "\n",
        "import pandas as pd\n",
        "import numpy as np\n",
        "\n",
        "import gensim\n",
        "from gensim.models import Word2Vec\n",
        "import nltk\n",
        "nltk.download('punkt')\n",
        "from nltk.tokenize import sent_tokenize, word_tokenize\n",
        "import warnings\n",
        "from collections import defaultdict  # For word frequency\n",
        "import spacy  # For preprocessing\n",
        "warnings.filterwarnings(action = 'ignore')\n",
        "\n",
        "\n",
        "import random\n",
        "from sklearn.metrics import matthews_corrcoef, cohen_kappa_score, brier_score_loss, roc_auc_score, roc_curve, precision_score, auc, precision_recall_curve, classification_report, average_precision_score, matthews_corrcoef\n",
        "from sklearn import svm\n",
        "from sklearn.tree import DecisionTreeClassifier\n",
        "from sklearn.ensemble import RandomForestClassifier\n",
        "from sklearn.metrics.pairwise import cosine_similarity\n",
        "from sklearn.model_selection import train_test_split\n",
        "from sklearn.linear_model import LogisticRegression\n",
        "from sklearn.tree import DecisionTreeClassifier\n",
        "from sklearn.ensemble import RandomForestClassifier\n",
        "import matplotlib.pyplot as plt\n",
        "from sklearn.model_selection import StratifiedKFold, LeaveOneOut\n",
        "import matplotlib.pyplot as plt\n",
        "import seaborn as sns\n",
        "from sklearn.model_selection import KFold\n",
        "import copy\n",
        "\n",
        "from imblearn.over_sampling import SMOTE, RandomOverSampler\n",
        "from imblearn.under_sampling import RandomUnderSampler\n",
        "\n",
        "# import urllib.request\n",
        "# from urllib.error import HTTPError\n"
      ]
    },
    {
      "cell_type": "code",
      "execution_count": 2,
      "metadata": {
        "id": "gfVv-5RTUQZt"
      },
      "outputs": [],
      "source": [
        "import warnings\n",
        "\n",
        "from collections import defaultdict  # For word frequency\n",
        "\n",
        "import spacy  # For preprocessing\n",
        "\n",
        "warnings.filterwarnings(action = 'ignore')\n",
        "\n",
        "import random\n",
        "from sklearn import svm\n",
        "from sklearn.tree import DecisionTreeClassifier\n",
        "from sklearn.ensemble import RandomForestClassifier\n",
        "from sklearn.metrics.pairwise import cosine_similarity\n",
        "from sklearn.linear_model import LogisticRegression\n",
        "from sklearn.tree import DecisionTreeClassifier\n",
        "from sklearn.ensemble import RandomForestClassifier\n",
        "import matplotlib.pyplot as plt\n",
        "import seaborn as sns\n",
        "\n",
        "import keras\n",
        "from keras.layers import Conv1D, MaxPool1D, Flatten\n",
        "from keras.models import Sequential, Model\n",
        "from sklearn.model_selection import train_test_split\n",
        "import random\n",
        "import tensorflow as tf\n",
        "import numpy as np\n",
        "import matplotlib.pyplot as plt\n",
        "import os\n",
        "from tqdm import tqdm\n",
        "import cv2\n",
        "from numpy import random as rng\n",
        "from sklearn.utils import shuffle\n",
        "import pickle\n",
        "import time\n",
        "\n",
        "from tensorflow.keras.layers import Input, Lambda, Conv2D, MaxPooling2D, BatchNormalization, Dense, Flatten, Activation, Dropout\n",
        "from tensorflow.keras.models import Sequential, Model\n",
        "from tensorflow.keras import backend as K\n",
        "\n",
        "import re\n",
        "import numpy as np\n",
        "from PIL import Image\n",
        "\n",
        "from sklearn.model_selection import train_test_split\n",
        "from keras import backend as K\n",
        "from keras.layers import Activation\n",
        "from keras.layers import Input, Lambda, Dense, Dropout, Convolution2D, MaxPooling2D, Flatten\n",
        "from keras.models import Sequential, Model\n",
        "from tensorflow.keras.optimizers import RMSprop\n",
        "from keras import optimizers\n",
        "\n",
        "import matplotlib.image as mpimg\n",
        "import matplotlib.pyplot as plt\n",
        "\n",
        "from keras import callbacks\n",
        "from keras.callbacks import ModelCheckpoint, LearningRateScheduler, EarlyStopping, ReduceLROnPlateau, TensorBoard\n",
        "import os\n",
        "from keras.models import Model,load_model\n",
        "import json\n",
        "from keras.models import model_from_json, load_model\n",
        "from keras.layers import Dense, Dropout, Flatten, Conv2D, MaxPool2D, BatchNormalization\n",
        "import warnings\n",
        "warnings.filterwarnings('ignore')\n",
        "import tensorflow as tf\n",
        "# import keras\n",
        "from keras.layers import Input, Conv1D, Lambda, Dense, Flatten,MaxPooling1D, Concatenate\n",
        "from keras.models import Model, Sequential\n",
        "from keras.regularizers import l2\n",
        "from keras import backend as K\n",
        "from tensorflow import keras\n",
        "from tensorflow.keras.optimizers import Adam, SGD\n",
        "from keras.losses import binary_crossentropy\n",
        "from tensorflow.keras.utils import plot_model\n",
        "\n",
        "\n",
        "from tensorflow.keras.models import Model\n",
        "from tensorflow.keras.layers import Input, Dense, Dropout, Subtract, Lambda, concatenate\n",
        "from tensorflow.keras.optimizers import Adam\n",
        "from tensorflow.keras.preprocessing.image import ImageDataGenerator\n",
        "from tensorflow.keras.callbacks import EarlyStopping, ModelCheckpoint, ReduceLROnPlateau"
      ]
    },
    {
      "attachments": {},
      "cell_type": "markdown",
      "metadata": {
        "id": "E4DPQo6ciHJF"
      },
      "source": [
        "# Data loading"
      ]
    },
    {
      "attachments": {},
      "cell_type": "markdown",
      "metadata": {
        "id": "E1K3aImv-zpt"
      },
      "source": [
        "The associations are based RepoDB database and collected from golden standard database of our prior study, DRP-VEM."
      ]
    },
    {
      "cell_type": "code",
      "execution_count": null,
      "metadata": {
        "id": "CHIpDlp6WXO5"
      },
      "outputs": [],
      "source": [
        "ass = pd.read_csv(\"my_repodb.txt\")\n",
        "ass.set_index(\"Unnamed: 0\", inplace=True)\n",
        "disgenet = pd.read_csv(\"Gen-Dis-association-Disgenet-2022 - curated_gene_disease_associations.csv\")\n",
        "\n",
        "# making the drug and disease lists\n",
        "my_disease_list = list(set(ass.ind_id))\n",
        "my_drug_list = list(set(ass.drug_id))\n",
        "drugs=list(set(ass.drug_id))\n",
        "disgenet = disgenet.loc[disgenet['diseaseId'].isin(my_disease_list)]\n",
        "my_disease_list = list(set(disgenet.diseaseId))\n",
        "ass = ass.loc[ass['ind_id'].isin(my_disease_list)]\n",
        "my_drug_list = list(set(ass.drug_id))\n",
        "\n",
        "# making the list of known drug-disease associations\n",
        "\n",
        "A=[]\n",
        "for ix, row in ass.iterrows():\n",
        "  text = str(row.drug_id)+\" has_indicated \"+str(row.ind_id)+\". \"\n",
        "  A.append(text)\n",
        "\n",
        "associations = []\n",
        "for a in A:\n",
        "  associations.append(a)\n",
        "\n",
        "\n"
      ]
    },
    {
      "cell_type": "code",
      "execution_count": null,
      "metadata": {
        "id": "hbn2fUcAJyim"
      },
      "outputs": [],
      "source": [
        "freq = ass.groupby(['drug_id'])['ind_id'].agg('count').reset_index()\n",
        "freq = freq.sort_values(by='ind_id', ascending=False)\n"
      ]
    },
    {
      "cell_type": "code",
      "execution_count": null,
      "metadata": {
        "id": "iYpuJn_1FlvX"
      },
      "outputs": [],
      "source": [
        "genid={}\n",
        "for idx, row in disgenet.iterrows():\n",
        "  # print(row)\n",
        "  if row.geneId in genid.keys():\n",
        "    continue\n",
        "  else:\n",
        "    genid[row.geneId]=row.geneSymbol"
      ]
    },
    {
      "cell_type": "code",
      "execution_count": null,
      "metadata": {
        "id": "lveVLqkSg1N3"
      },
      "outputs": [],
      "source": [
        "has = pd.read_csv(\"my_repodb.txt\") # Positive data: Known Drug-Disease associations\n",
        "has.set_index(\"Unnamed: 0\", inplace=True)\n",
        "has = has.drop(['drug_name', 'ind_name','NCT','status', 'phase',\n",
        "       'DetailedStatus'], axis=1)\n",
        "has = has.loc[has['ind_id'].isin(my_disease_list)]\n",
        "\n",
        "\n",
        "hasnt = pd.read_csv(\"my_only_negatives.txt\") # Negative data: Unknown Drug-Disease associations when disease is adverse drug reaction\n",
        "hasnt.set_index(\"Unnamed: 0\", inplace=True)\n",
        "hasnt = hasnt.rename(columns={\"Not_indicated_for\":\"ind_id\", \"Drug_id\": \"drug_id\"})\n",
        "hasnt = hasnt.loc[hasnt['ind_id'].isin(my_disease_list)]\n"
      ]
    },
    {
      "cell_type": "code",
      "execution_count": null,
      "metadata": {
        "colab": {
          "base_uri": "https://localhost:8080/"
        },
        "id": "49Ts6SkknKOi",
        "outputId": "b07ee8ff-7308-480f-e029-2f95d62ab51e"
      },
      "outputs": [
        {
          "name": "stdout",
          "output_type": "stream",
          "text": [
            "The number of all known drug disease associations in our dataset:  (748, 2)\n",
            "Number of unique disease in Pos:  141\n",
            "Number of uniques drugs in Pos:  410\n"
          ]
        }
      ],
      "source": [
        "# Positive : Known drug-disease associations\n",
        "print(\"The number of all known drug disease associations in our dataset: \",(has.shape))\n",
        "print(\"Number of unique disease in Pos: \",len(list(set(has.ind_id))) )\n",
        "print(\"Number of uniques drugs in Pos: \", len(list(set(has.drug_id))) )"
      ]
    },
    {
      "cell_type": "code",
      "execution_count": null,
      "metadata": {
        "colab": {
          "base_uri": "https://localhost:8080/"
        },
        "id": "GZXvtRqpmzZA",
        "outputId": "35e7330a-5770-4372-fc5e-9908afe62800"
      },
      "outputs": [
        {
          "name": "stdout",
          "output_type": "stream",
          "text": [
            "The number of unknown drug disease associations in our dataset:  (1966, 2)\n",
            "Number of unique disease in Neg:  88\n",
            "Number of uniques drugs in Neg:  361\n"
          ]
        }
      ],
      "source": [
        "# Negatives : Unknown drug-disease associations provided the disease is adverse drug reactoins\n",
        "\n",
        "print(\"The number of unknown drug disease associations in our dataset: \",(hasnt.shape))\n",
        "print(\"Number of unique disease in Neg: \",len(list(set(hasnt.ind_id))) )\n",
        "print(\"Number of uniques drugs in Neg: \", len(list(set(hasnt.drug_id))) )"
      ]
    },
    {
      "attachments": {},
      "cell_type": "markdown",
      "metadata": {
        "id": "u0-W14GnITTO"
      },
      "source": [
        "The information of diseases are collected using [DisGeNet](https://www.disgenet.org)"
      ]
    },
    {
      "cell_type": "code",
      "execution_count": null,
      "metadata": {
        "id": "CBpV3s6Ep9sX"
      },
      "outputs": [],
      "source": [
        "\n",
        "\n",
        "# making the relation of diseases: has_geneid, has_class, has_semantic, has_type\n",
        "\n",
        "C=[]\n",
        "num1=0\n",
        "num2=0\n",
        "num3=0\n",
        "num4=0\n",
        "for idx, row in disgenet.iterrows():\n",
        "  # if row.diseaseId in my_disease_list:\n",
        "      semtype = \"_\".join(row.diseaseSemanticType.split())\n",
        "      clas = row.diseaseClass.split(\";\")\n",
        "      text1 =str(row.diseaseId)+\" has_geneid \"+str(row.geneSymbol)+\". \"\n",
        "      num1+=1\n",
        "      text2 =str(row.diseaseId)+\" has_type \"+str(row.diseaseType)+\". \"\n",
        "      num2+=1\n",
        "      text3 =str(row.diseaseId)+\" has_semantic \"+str(semtype)+\". \"\n",
        "      num3+=1\n",
        "      C.append(text1)\n",
        "      C.append(text2)\n",
        "      C.append(text3)\n",
        "      num4+=len(clas)\n",
        "      for cl in clas:\n",
        "        text =str(row.diseaseId)+\" has_class \"+str(cl)+\". \"\n",
        "        C.append(text)\n",
        "\n",
        "Disease=\"\"\n",
        "for c in C:\n",
        "  Disease= Disease+c\n"
      ]
    },
    {
      "cell_type": "code",
      "execution_count": null,
      "metadata": {
        "id": "lJMvNAjbIk8g"
      },
      "outputs": [],
      "source": [
        "gensymbol = set(list(disgenet.geneSymbol))"
      ]
    },
    {
      "attachments": {},
      "cell_type": "markdown",
      "metadata": {
        "id": "p7mdjCe2RWKp"
      },
      "source": [
        "making the drug relations: has_sideeffect, has_target, has_domain, has_atccode, has_chemicalstructure"
      ]
    },
    {
      "cell_type": "code",
      "execution_count": null,
      "metadata": {
        "id": "t7dgE79vZq2Q"
      },
      "outputs": [],
      "source": [
        "# has_target relation. data is collected using DrugBank\n",
        "T=[]\n",
        "target= pd.read_csv(\"my_target.txt\")\n",
        "target.set_index(\"Unnamed: 0\", inplace=True)\n",
        "# target_name = target.columns\n",
        "for idx, row in target.iterrows():\n",
        "  for c in target.columns:\n",
        "    if row[c] ==1 :\n",
        "      text =str(idx)+\" has_target \"+str(c)+\". \"\n",
        "      T.append(text)\n",
        "target1=\"\"\n",
        "for c in T:\n",
        "  target1= target1+c"
      ]
    },
    {
      "cell_type": "code",
      "execution_count": null,
      "metadata": {
        "id": "0HmWoqUJeEbs"
      },
      "outputs": [],
      "source": [
        "g = pd.DataFrame(target.columns, columns=[\"target name\"])"
      ]
    },
    {
      "cell_type": "code",
      "execution_count": null,
      "metadata": {
        "id": "dbMxbLsMHo45"
      },
      "outputs": [],
      "source": [
        "PPI = pd.read_csv(\"PPI-extracted scores more than 80-cleaned.txt\")\n",
        "p=[]\n",
        "for idx, row in PPI.iterrows():\n",
        "  if row.P1 in target.columns and row.P2 in target.columns:\n",
        "    text = str(row.P1)+' has_ppi_interaction '+ str(row.P2)+'. '\n",
        "    p.append(text)\n",
        "    # text = str(row.P2)+' has_ppi_interaction '+ str(row.P1)+'. '\n",
        "    # p.append(text)\n",
        "ppi=\"\"\n",
        "for c in p:\n",
        "  ppi= ppi+c"
      ]
    },
    {
      "cell_type": "code",
      "execution_count": null,
      "metadata": {
        "id": "R10NK01ZILsX"
      },
      "outputs": [],
      "source": [
        "GRN = pd.read_csv(\"GRN-extracted scores more than 90-cleaned.txt\")\n",
        "G=[]\n",
        "for idx, row in GRN.iterrows():\n",
        "  if row.G1 in gensymbol and row.G2 in gensymbol:\n",
        "    text = str(row.G1)+' has_GRN_interaction '+ str(row.G2)+'. '\n",
        "    G.append(text)\n",
        "    # text = str(row.G2)+' has_GRN_interaction '+ str(row.G1)+'. '\n",
        "    # G.append(text)\n",
        "grn=\"\"\n",
        "for c in G:\n",
        "  grn= grn+c"
      ]
    },
    {
      "cell_type": "code",
      "execution_count": null,
      "metadata": {
        "id": "uChMRBszaTLw"
      },
      "outputs": [],
      "source": [
        "# has_domain relation. data is collected using UniProt\n",
        "D=[]\n",
        "dom= pd.read_csv(\"my_domain.txt\")\n",
        "dom.set_index(\"Unnamed: 0\", inplace=True)\n",
        "for idx, row in dom.iterrows():\n",
        "  for c in dom.columns:\n",
        "    if row[c] ==1 :\n",
        "      text =str(idx)+\" has_domain \"+str(c)+\". \"\n",
        "      D.append(text)\n",
        "\n",
        "domain=\"\"\n",
        "for c in D:\n",
        "  domain= domain+c\n"
      ]
    },
    {
      "cell_type": "code",
      "execution_count": null,
      "metadata": {
        "id": "0EGF5zFsSkTE"
      },
      "outputs": [],
      "source": [
        "# has_chemical relation. data is collected using Pubchem\n",
        "C=[]\n",
        "finger= pd.read_csv(\"my_finger.txt\")\n",
        "finger.set_index(\"Unnamed: 0\", inplace=True)\n",
        "for idx, row in finger.iterrows():\n",
        "  for c in finger.columns:\n",
        "    if row[c] ==1 :\n",
        "      text =str(idx)+\" has_chemical S\"+str(c)+\". \"\n",
        "      C.append(text)\n",
        "chemical=\"\"\n",
        "for c in C:\n",
        "  chemical= chemical+c"
      ]
    },
    {
      "cell_type": "code",
      "execution_count": null,
      "metadata": {
        "id": "7ZSOlKfUOBJA"
      },
      "outputs": [],
      "source": [
        "# has_atc_code relation. data is collected using Sider4.1\n",
        "\n",
        "ATC=[]\n",
        "atc= pd.read_csv(\"my_ATC.txt\")\n",
        "atc.set_index(\"Unnamed: 0\", inplace=True)\n",
        "for idx, row in atc.iterrows():\n",
        "  for c in atc.columns:\n",
        "    if row[c] == 1 and (len(c)==4 or len(c)==1 or len(c)==3 or len(c)==5): # we consider first 4 level of ATC code\n",
        "      text =str(idx)+\" has_atc_code \"+str(c)+\". \"\n",
        "      ATC.append(text)\n",
        "atccode=\"\"\n",
        "for c in ATC:\n",
        "  atccode= atccode+c"
      ]
    },
    {
      "cell_type": "code",
      "execution_count": null,
      "metadata": {
        "id": "usc_IO_5YdZh"
      },
      "outputs": [],
      "source": [
        "# has_sideeffect relation. Date is collected using Sider4.1\n",
        "S=[]\n",
        "side= pd.read_csv(\"my_sideeffect.txt\")\n",
        "side.set_index(\"Unnamed: 0\", inplace=True)\n",
        "for idx, row in side.iterrows():\n",
        "  for c in side.columns:\n",
        "    if row[c] ==1 :\n",
        "      text =str(idx)+\" has_sideeffect \"+str(c)+\". \"\n",
        "      S.append(text)"
      ]
    },
    {
      "cell_type": "code",
      "execution_count": null,
      "metadata": {
        "id": "aATmoM4APuWX"
      },
      "outputs": [],
      "source": [
        "# target-domain relation. Date is collected using target_domain_association\n",
        "TD=[]\n",
        "td= pd.read_csv(\"target_domain_association.txt\")\n",
        "td\n",
        "td.set_index(\"Unnamed: 0\", inplace=True)\n",
        "td\n",
        "for idx, row in td.iterrows():\n",
        "  if idx in target.columns:\n",
        "    for c in td.columns:\n",
        "      if row[c] ==1 and c in dom.columns:\n",
        "        text =str(idx)+\" has_tardom \"+str(c)+\". \"\n",
        "        TD.append(text)\n",
        "\n",
        "tardom=\"\"\n",
        "for c in TD:\n",
        "  tardom= tardom+c"
      ]
    },
    {
      "cell_type": "code",
      "execution_count": null,
      "metadata": {
        "id": "rlHVqIMdGi9k"
      },
      "outputs": [],
      "source": [
        "# target-gene relation. Date is collected using DisGenet\n",
        "TG=[]\n",
        "tg= pd.read_csv(\"Uniprot-2-GeneID.csv\")\n",
        "tg\n",
        "\n",
        "for idx, row in tg.iterrows():\n",
        "  if row.UniProtKB in target.columns:\n",
        "    if row.GENEID in genid.keys():\n",
        "      text =str(row.UniProtKB)+\" has_targen \"+str(row.GENEID)+\". \"\n",
        "      TG.append(text)\n",
        "\n",
        "targene=\"\"\n",
        "for c in TG:\n",
        "  targene= targene+c"
      ]
    },
    {
      "attachments": {},
      "cell_type": "markdown",
      "metadata": {
        "id": "kRXTA448ULst"
      },
      "source": [
        "Extracting drug-disease associations\n",
        "\n",
        "Positive data: Known drug-disease associations\n",
        "\n",
        "Negative data: a subset of unknown drug-disease associations that disease is an adverse drug reaction and common with our side effects\n",
        "\n",
        "More over I did it 10 times for getting the results of 10-fold cross validation based on positive data"
      ]
    },
    {
      "cell_type": "code",
      "execution_count": null,
      "metadata": {
        "id": "ZtriJmeR2mZw"
      },
      "outputs": [],
      "source": [
        "A_test=[]\n",
        "i=0\n",
        "# randomly chose 10% (78) of positive data for test set\n",
        "# then extract those pairs from the documnet of associations that word2vec learns\n",
        "while(i!=74):\n",
        "  a1 = (random.sample(A, 1))\n",
        "  a = a1[0].split(\" \")\n",
        "  a2=a[2].split(\".\")\n",
        "  A_test.append(a1[0])\n",
        "  A.remove(a1[0]) # removing the drug-disease pairs that we aim to check their associations by the model\n",
        "  i+=1\n",
        "\n",
        "ass=\"\" # making the new associations for training the models\n",
        "for c in A:\n",
        "  ass= ass+c"
      ]
    },
    {
      "cell_type": "code",
      "execution_count": null,
      "metadata": {
        "colab": {
          "base_uri": "https://localhost:8080/"
        },
        "id": "SNBl2eMK2mZ1",
        "outputId": "db820491-23e1-4ca7-d185-38447fc6676e"
      },
      "outputs": [
        {
          "name": "stdout",
          "output_type": "stream",
          "text": [
            "The number of  known drug disease associations without positive test set: (674, 2)\n"
          ]
        }
      ],
      "source": [
        "\n",
        "I=[]\n",
        "for idx, row in has.iterrows():\n",
        "  text=str(row.drug_id)+\" has_indicated \"+str(row.ind_id)+\". \"\n",
        "  if text in A_test: # Extracting test associations from positive data\n",
        "    I.append(idx)\n",
        "has = has.drop(index=I, axis=0)\n",
        "print(\"The number of  known drug disease associations without positive test set:\",has.shape)"
      ]
    },
    {
      "cell_type": "code",
      "execution_count": null,
      "metadata": {
        "colab": {
          "base_uri": "https://localhost:8080/"
        },
        "id": "fjOm6_gAR9Qp",
        "outputId": "5d13e73e-aab8-41b4-da96-0cc4ea1eac6b"
      },
      "outputs": [
        {
          "name": "stdout",
          "output_type": "stream",
          "text": [
            "The number of unknown drug disease associations in our dataset:  (1966, 2)\n",
            "The number of unknown drug disease associations without negative test set:  (1888, 2)\n"
          ]
        }
      ],
      "source": [
        "# hasnt = hasnt.rename(columns={\"Not_indicated_for\":\"ind_id\", \"Drug_id\": \"drug_id\"})\n",
        "\n",
        "print(\"The number of unknown drug disease associations in our dataset: \",(hasnt.shape))\n",
        "\n",
        "I=[]\n",
        "u=0\n",
        "hasnt_test_idx=random.sample(range(0,hasnt.shape[0]), 78)\n",
        "for idx, row in hasnt.iterrows():\n",
        "  if idx in hasnt_test_idx:\n",
        "    I.append(row)\n",
        "    x = str(row.drug_id)+\" has_sideeffect \"+str(row.ind_id)+\". \"  # we extract those has_sideeffect relations from drug which are in negative test set and we consider them as adverse drug reactions\n",
        "    if(x in S):\n",
        "      S.remove(x)\n",
        "      u = u+1\n",
        "hasnt = hasnt.drop(index=hasnt_test_idx, axis=0)\n",
        "print(\"The number of unknown drug disease associations without negative test set: \",(hasnt.shape))\n",
        "\n",
        "side=\"\"\n",
        "for c in S:\n",
        "  side= side+c\n",
        "I=pd.DataFrame(I)"
      ]
    },
    {
      "attachments": {},
      "cell_type": "markdown",
      "metadata": {
        "id": "4ocxfgkg4f73"
      },
      "source": [
        "#Word2Vec implementation\n"
      ]
    },
    {
      "attachments": {},
      "cell_type": "markdown",
      "metadata": {
        "id": "HpG5IkfTtXcq"
      },
      "source": [
        "first, we make the file of our DDKG\n"
      ]
    },
    {
      "cell_type": "code",
      "execution_count": null,
      "metadata": {
        "id": "-x6g4u2abgg6"
      },
      "outputs": [],
      "source": [
        "\n",
        "data=[]\n",
        "sets=[chemical, target1, side, domain, atccode, tardom, targene, grn, ppi, ass, Disease] #Main\n",
        "# sets=[chemical, target1, side, domain, atccode, tardom, ppi,grn, ass, Disease] #Internal\n",
        "# sets=[chemical, target1, side, domain, atccode, ass, Disease] #Basic\n",
        "# sets=[chemical, target1, side, domain, atccode, targene, ass, Disease] #External\n",
        "\n",
        "\n",
        "for s in sets:\n",
        "  for i in sent_tokenize(s):\n",
        "      temp = []\n",
        "      # tokenize the sentence into words\n",
        "      for j in word_tokenize(i):\n",
        "          temp.append(j.lower())\n",
        "      data.append(temp)"
      ]
    },
    {
      "cell_type": "code",
      "execution_count": null,
      "metadata": {
        "colab": {
          "base_uri": "https://localhost:8080/"
        },
        "id": "YPCZWjv5hiDH",
        "outputId": "304364d7-dfc9-434b-e7a1-efa522a1ecf7"
      },
      "outputs": [
        {
          "data": {
            "text/plain": [
              "12812"
            ]
          },
          "execution_count": 112,
          "metadata": {},
          "output_type": "execute_result"
        }
      ],
      "source": [
        "word_freq = defaultdict(int)\n",
        "for sent in data:\n",
        "    for i in sent:\n",
        "        word_freq[i] += 1\n",
        "len(word_freq)"
      ]
    },
    {
      "attachments": {},
      "cell_type": "markdown",
      "metadata": {
        "id": "L0gAjZPutovy"
      },
      "source": [
        "we train Word2Vec-CBOW for embedding every entity of DDKG including diseases and drugs\n",
        "\n",
        "based on trial and error, the best performance of Word2Vec on our dataset is when the length of vectors (size) is 700 and the iteration (iter) is 2000"
      ]
    },
    {
      "cell_type": "code",
      "execution_count": null,
      "metadata": {
        "colab": {
          "background_save": true
        },
        "id": "5D8HsO0XdIWo",
        "outputId": "f57da9f4-532a-4893-89bc-95aae26f39cb"
      },
      "outputs": [
        {
          "name": "stderr",
          "output_type": "stream",
          "text": [
            "WARNING:gensim.models.keyedvectors:destructive init_sims(replace=True) deprecated & no longer required for space-efficiency\n"
          ]
        }
      ],
      "source": [
        "model1 = gensim.models.Word2Vec(min_count = 1, alpha=0.001, vector_size = 1024, window = 2, epochs=100, sg=0)\n",
        "model1.build_vocab(data, progress_per=1000)\n",
        "model1.train(data, total_examples=model1.corpus_count, epochs=500, report_delay=1)\n",
        "model1.init_sims(replace=True)"
      ]
    },
    {
      "cell_type": "code",
      "execution_count": 3,
      "metadata": {
        "id": "qqhNP4nj_dUD"
      },
      "outputs": [],
      "source": [
        "def mean_cal(K):\n",
        "  sum=0\n",
        "  for k in K:\n",
        "    sum= sum+k\n",
        "  return(sum/len(K))"
      ]
    },
    {
      "cell_type": "code",
      "execution_count": 4,
      "metadata": {
        "id": "UzqR5mySieAZ"
      },
      "outputs": [],
      "source": [
        "def model_history(history):\n",
        "  plt.plot(history.history['accuracy'])\n",
        "  plt.plot(history.history['val_accuracy'])\n",
        "  plt.title('model accuracy')\n",
        "  plt.ylabel('accuracy')\n",
        "  plt.xlabel('epoch')\n",
        "  plt.legend(['train', 'test'], loc='upper left')\n",
        "  plt.show()\n",
        "  # summarize history for loss\n",
        "  plt.plot(history.history['loss'])\n",
        "  plt.plot(history.history['val_loss'])\n",
        "  plt.title('model loss')\n",
        "  plt.ylabel('loss')\n",
        "  plt.xlabel('epoch')\n",
        "  plt.legend(['train', 'test'], loc='upper left')\n",
        "  plt.show()"
      ]
    },
    {
      "attachments": {},
      "cell_type": "markdown",
      "metadata": {
        "id": "9_O6CwblyN-E"
      },
      "source": [
        "# Implementation\n",
        "\n",
        "we consider several approaches:\n",
        "1. unbalanced dataset\n",
        "2. Undersampling negative data\n",
        "3. Upsampling positive data (Random oversample and SMOTE techniqe)\n",
        "4. Upsampling positive data and undersampling negative data"
      ]
    },
    {
      "attachments": {},
      "cell_type": "markdown",
      "metadata": {
        "id": "BZ-67a8zhrsX"
      },
      "source": [
        "## Unbalanced"
      ]
    },
    {
      "cell_type": "code",
      "execution_count": null,
      "metadata": {
        "colab": {
          "background_save": true
        },
        "id": "chcfRe4LWFfJ"
      },
      "outputs": [],
      "source": [
        "frames = [has, hasnt]\n",
        "f = pd.concat(frames)\n",
        "X=[]\n",
        "for idx, row in f.iterrows():\n",
        "  X.append(np.concatenate((model1.wv[(row.drug_id).lower()].reshape((1,1024)), model1.wv[(row.ind_id).lower()].reshape((1,1024))), axis=None))\n",
        "\n",
        "\n",
        "y=np.zeros((len(X), ))\n",
        "\n",
        "for i in range(has.shape[0]):\n",
        "  y[i]=1\n",
        "\n",
        "# the main test set\n",
        "X_me = []\n",
        "Y_me = []\n",
        "for a in A_test:\n",
        "  sample = a.split(\" \")\n",
        "  dname =sample[0]\n",
        "  disname = sample[2].split(\".\")\n",
        "  X_me.append(np.concatenate((model1.wv[(dname.rstrip().lower())].reshape((1, 1024)), model1.wv[(disname[0].lstrip().lower())].reshape((1, 1024))), axis=None))\n",
        "  Y_me.append(1)\n",
        "for idx, i in I.iterrows():\n",
        "  if(i.ind_id in my_disease_list and i.drug_id in my_drug_list):\n",
        "    X_me.append(np.concatenate((model1.wv[i.drug_id.lower()].reshape((1, 1024)), model1.wv[i.ind_id.lower()].reshape((1, 1024))), axis=None))\n",
        "    Y_me.append(0)\n"
      ]
    },
    {
      "cell_type": "code",
      "execution_count": null,
      "metadata": {
        "colab": {
          "background_save": true
        },
        "id": "0PdMAKlQWFfN",
        "outputId": "237a6b50-2dc4-463a-9910-84e46dbb6870"
      },
      "outputs": [
        {
          "name": "stdout",
          "output_type": "stream",
          "text": [
            "Epoch 1/100\n",
            "61/61 [==============================] - 4s 11ms/step - loss: 0.6422 - accuracy: 0.7319 - val_loss: 0.5694 - val_accuracy: 0.7441 - lr: 5.0000e-05\n",
            "Epoch 2/100\n",
            "61/61 [==============================] - 0s 7ms/step - loss: 0.5513 - accuracy: 0.7345 - val_loss: 0.5055 - val_accuracy: 0.7441 - lr: 5.0000e-05\n",
            "Epoch 3/100\n",
            "61/61 [==============================] - 0s 7ms/step - loss: 0.4929 - accuracy: 0.7350 - val_loss: 0.4522 - val_accuracy: 0.7441 - lr: 5.0000e-05\n",
            "Epoch 4/100\n",
            "61/61 [==============================] - 1s 8ms/step - loss: 0.4468 - accuracy: 0.7460 - val_loss: 0.4188 - val_accuracy: 0.8034 - lr: 5.0000e-05\n",
            "Epoch 5/100\n",
            "61/61 [==============================] - 1s 9ms/step - loss: 0.4115 - accuracy: 0.8037 - val_loss: 0.3920 - val_accuracy: 0.8284 - lr: 5.0000e-05\n",
            "Epoch 6/100\n",
            "61/61 [==============================] - 1s 10ms/step - loss: 0.3910 - accuracy: 0.8246 - val_loss: 0.3709 - val_accuracy: 0.8456 - lr: 5.0000e-05\n",
            "Epoch 7/100\n",
            "61/61 [==============================] - 1s 12ms/step - loss: 0.3684 - accuracy: 0.8496 - val_loss: 0.3562 - val_accuracy: 0.8565 - lr: 5.0000e-05\n",
            "Epoch 8/100\n",
            "61/61 [==============================] - 1s 13ms/step - loss: 0.3538 - accuracy: 0.8485 - val_loss: 0.3498 - val_accuracy: 0.8612 - lr: 5.0000e-05\n",
            "Epoch 9/100\n",
            "61/61 [==============================] - 1s 10ms/step - loss: 0.3438 - accuracy: 0.8558 - val_loss: 0.3418 - val_accuracy: 0.8580 - lr: 5.0000e-05\n",
            "Epoch 10/100\n",
            "61/61 [==============================] - 0s 8ms/step - loss: 0.3390 - accuracy: 0.8589 - val_loss: 0.3515 - val_accuracy: 0.8565 - lr: 5.0000e-05\n",
            "Epoch 11/100\n",
            "54/61 [=========================>....] - ETA: 0s - loss: 0.3322 - accuracy: 0.8582\n",
            "Epoch 11: ReduceLROnPlateau reducing learning rate to 4.999999873689376e-06.\n",
            "61/61 [==============================] - 0s 7ms/step - loss: 0.3321 - accuracy: 0.8594 - val_loss: 0.3396 - val_accuracy: 0.8565 - lr: 5.0000e-05\n",
            "Epoch 12/100\n",
            "61/61 [==============================] - 0s 7ms/step - loss: 0.3241 - accuracy: 0.8647 - val_loss: 0.3391 - val_accuracy: 0.8580 - lr: 5.0000e-06\n",
            "Epoch 13/100\n",
            "61/61 [==============================] - 0s 7ms/step - loss: 0.3334 - accuracy: 0.8532 - val_loss: 0.3387 - val_accuracy: 0.8580 - lr: 5.0000e-06\n",
            "Epoch 14/100\n",
            "59/61 [============================>.] - ETA: 0s - loss: 0.3206 - accuracy: 0.8655\n",
            "Epoch 14: ReduceLROnPlateau reducing learning rate to 4.999999873689376e-07.\n",
            "61/61 [==============================] - 0s 7ms/step - loss: 0.3199 - accuracy: 0.8657 - val_loss: 0.3384 - val_accuracy: 0.8612 - lr: 5.0000e-06\n",
            "Epoch 15/100\n",
            "61/61 [==============================] - 0s 7ms/step - loss: 0.3230 - accuracy: 0.8636 - val_loss: 0.3384 - val_accuracy: 0.8612 - lr: 5.0000e-07\n",
            "Epoch 16/100\n",
            "61/61 [==============================] - 0s 7ms/step - loss: 0.3263 - accuracy: 0.8647 - val_loss: 0.3384 - val_accuracy: 0.8596 - lr: 5.0000e-07\n",
            "Epoch 17/100\n",
            "60/61 [============================>.] - ETA: 0s - loss: 0.3248 - accuracy: 0.8630Restoring model weights from the end of the best epoch: 8.\n",
            "\n",
            "Epoch 17: ReduceLROnPlateau reducing learning rate to 4.999999987376214e-08.\n",
            "61/61 [==============================] - 0s 7ms/step - loss: 0.3247 - accuracy: 0.8631 - val_loss: 0.3384 - val_accuracy: 0.8565 - lr: 5.0000e-07\n",
            "Epoch 17: early stopping\n"
          ]
        },
        {
          "data": {
            "image/png": "[encoded data removed]",
            "text/plain": [
              "<Figure size 640x480 with 1 Axes>"
            ]
          },
          "metadata": {},
          "output_type": "display_data"
        },
        {
          "data": {
            "image/png": "[encoded data removed]",
            "text/plain": [
              "<Figure size 640x480 with 1 Axes>"
            ]
          },
          "metadata": {},
          "output_type": "display_data"
        }
      ],
      "source": [
        "# Define the callbacks\n",
        "early_stopping = EarlyStopping(monitor='val_accuracy', patience=9, verbose=1, restore_best_weights=True)\n",
        "reduce_lr = ReduceLROnPlateau(monitor='val_accuracy', factor=0.1, patience=3, verbose=1)\n",
        "model_checkpoint = ModelCheckpoint('best_weights.h5', monitor='val_accuracy', save_best_only=True)\n",
        "\n",
        "input_shape1 = (1024,)\n",
        "input_shape2 = (1024,)\n",
        "\n",
        "# Define the inputs for the two branches of the network\n",
        "input1 = Input(shape=input_shape1)\n",
        "input2 = Input(shape=input_shape2)\n",
        "\n",
        "# Define the layers for the first branch of the network\n",
        "x1 = Dense(512, activation='relu')(input1)\n",
        "x1 = Dropout(rate=0.2)(x1)\n",
        "x1 = Dense(256, activation='relu')(x1)\n",
        "x1 = Dropout(rate=0.2)(x1)\n",
        "x1 = Dense(128, activation='relu')(x1)\n",
        "x1 = Dropout(rate=0.2)(x1)\n",
        "x1 = Dense(64, activation='relu')(x1)\n",
        "output1 = x1\n",
        "modeldrug = Model(input1, output1)\n",
        "modeldrug.compile(loss='kl-divergence', optimizer=SGD(learning_rate=0.0005), metrics=['accuracy'])\n",
        "# Define the layers for the second branch of the network\n",
        "x2 = Dense(512, activation='relu')(input2)\n",
        "x2 = Dropout(rate=0.2)(x2)\n",
        "x2 = Dense(256, activation='relu')(x2)\n",
        "x2 = Dropout(rate=0.2)(x2)\n",
        "x2 = Dense(128, activation='relu')(x2)\n",
        "x2 = Dropout(rate=0.2)(x2)\n",
        "x2 = Dense(64, activation='relu')(x2)\n",
        "output2 = x2\n",
        "modeldisease = Model(input2, output2)\n",
        "modeldisease.compile(loss='kl-divergence', optimizer=SGD(learning_rate=0.0005), metrics=['accuracy'])\n",
        "# Subtract the embeddings from the two branches\n",
        "diff = Subtract()([output1, output2])\n",
        "diff = Lambda(lambda d: abs(d))(diff)\n",
        "# diff = Dropout(0.2)(diff)\n",
        "concat = Dense(32, activation= 'relu')(diff)\n",
        "# concat = Dropout(rate=0.2)(concat)\n",
        "\n",
        "\n",
        "# Define the output layer\n",
        "output = Dense(1, activation='sigmoid')(concat)\n",
        "\n",
        "# Define the model\n",
        "simmodel = Model(inputs=[input1, input2], outputs=output)\n",
        "\n",
        "# Define the optimizer and compile the model\n",
        "optimizer = Adam(learning_rate=0.00005)\n",
        "simmodel.compile(loss='binary_crossentropy', optimizer=optimizer, metrics=['accuracy'])\n",
        "\n",
        "# # Define the class weights\n",
        "class_weights = {0: 1, 1: 1966/748 } # inverse frequency weighting\n",
        "\n",
        "\n",
        "# Train the model on your data with the defined callbacks\n",
        "\n",
        "X_me = np.array(X_me)\n",
        "Y_me = np.array(Y_me)\n",
        "X = np.array(X)\n",
        "y = np.array(y)\n",
        "l_v = np.array(X_me[:, :1024])\n",
        "r_v = np.array(X_me[:, 1024:])\n",
        "\n",
        "x_train, x_val, y_train, y_val = train_test_split(X, y)\n",
        "\n",
        "l = np.array(x_train[:, :1024])\n",
        "r = np.array(x_train[:, 1024:])\n",
        "\n",
        "\n",
        "l_val = np.array(x_val[:, :1024])\n",
        "r_val = np.array(x_val[:, 1024:])\n",
        "\n",
        "history = simmodel.fit([l, r], y_train, batch_size=32, epochs=100,validation_data=([l_val, r_val], y_val), callbacks=[early_stopping, reduce_lr, model_checkpoint])\n",
        "\n",
        "# history = simmodel.fit([l, r], y_train, batch_size= 32, epochs= 300, class_weight=class_weights, validation_data=([l_val, r_val],y_val)\n",
        "                  # ,callbacks=[callback]\n",
        "                  # )\n",
        "model_history(history)\n",
        "\n"
      ]
    },
    {
      "cell_type": "code",
      "execution_count": null,
      "metadata": {
        "colab": {
          "background_save": true
        },
        "id": "mZKRxmhbk-CS",
        "outputId": "8f5ae06d-f3a6-4e42-b5d0-ce9f9022f740"
      },
      "outputs": [
        {
          "name": "stdout",
          "output_type": "stream",
          "text": [
            "5/5 [==============================] - 0s 4ms/step - loss: 0.3970 - accuracy: 0.8092\n",
            "[0.39703965187072754, 0.8092105388641357]\n",
            "5/5 [==============================] - 0s 3ms/step\n",
            "auc-roc =  0.9275814275814276\n",
            "auc-pr =  0.8843650898200224\n",
            "Brier score: 0.12406749602315094\n",
            "Cohen Kapp score: 0.6158940397350994\n",
            "MCC score: 0.632126727471794\n"
          ]
        }
      ],
      "source": [
        "print(simmodel.evaluate([l_v, r_v], Y_me))\n",
        "y_hat= simmodel.predict([l_v, r_v])\n",
        "A = roc_auc_score(Y_me, y_hat)\n",
        "print(\"auc-roc = \", A)\n",
        "\n",
        "precision, recall, thresholds = precision_recall_curve(Y_me, y_hat)\n",
        "PR = auc(recall, precision)\n",
        "\n",
        "print(\"auc-pr = \", PR)\n",
        "\n",
        "print(\"Brier score:\", brier_score_loss(Y_me, y_hat))\n",
        "\n",
        "y_hat_e = []\n",
        "for item in y_hat:\n",
        "  if item >= 0.5:\n",
        "    y_hat_e.append(1)\n",
        "  else:\n",
        "    y_hat_e.append(0)\n",
        "print(\"Cohen Kapp score:\", cohen_kappa_score(Y_me, y_hat_e))\n",
        "print(\"MCC score:\", matthews_corrcoef(Y_me, y_hat_e))"
      ]
    },
    {
      "attachments": {},
      "cell_type": "markdown",
      "metadata": {
        "id": "wpaDRVRzjrih"
      },
      "source": [
        "##  Undersample"
      ]
    },
    {
      "cell_type": "code",
      "execution_count": null,
      "metadata": {
        "colab": {
          "background_save": true
        },
        "id": "3zQ2pmM7jvcy",
        "outputId": "b3982fa9-e1ed-442a-abb6-470067141b70"
      },
      "outputs": [
        {
          "name": "stdout",
          "output_type": "stream",
          "text": [
            "1348\n"
          ]
        }
      ],
      "source": [
        "frames = [has, hasnt]\n",
        "f = pd.concat(frames)\n",
        "X=[]\n",
        "for idx, row in f.iterrows():\n",
        "  X.append(np.concatenate((model1.wv[(row.drug_id).lower()].reshape((1,1024)), model1.wv[(row.ind_id).lower()].reshape((1,1024))), axis=None))\n",
        "\n",
        "\n",
        "y=np.zeros((len(X), ))\n",
        "\n",
        "for i in range(has.shape[0]):\n",
        "  y[i]=1\n",
        "\n",
        "# the main test set\n",
        "X_me = []\n",
        "Y_me = []\n",
        "for a in A_test:\n",
        "  sample = a.split(\" \")\n",
        "  dname =sample[0]\n",
        "  disname = sample[2].split(\".\")\n",
        "  X_me.append(np.concatenate((model1.wv[(dname.rstrip().lower())].reshape((1, 1024)), model1.wv[(disname[0].lstrip().lower())].reshape((1, 1024))), axis=None))\n",
        "  Y_me.append(1)\n",
        "for idx, i in I.iterrows():\n",
        "  if(i.ind_id in my_disease_list and i.drug_id in my_drug_list):\n",
        "    X_me.append(np.concatenate((model1.wv[i.drug_id.lower()].reshape((1, 1024)), model1.wv[i.ind_id.lower()].reshape((1, 1024))), axis=None))\n",
        "    Y_me.append(0)\n",
        "\n",
        "\n",
        "under = RandomUnderSampler()\n",
        "X,y = under.fit_resample(X,y)\n",
        "print(len(X))"
      ]
    },
    {
      "cell_type": "code",
      "execution_count": null,
      "metadata": {
        "colab": {
          "background_save": true
        },
        "id": "qdNt8C4njvcz",
        "outputId": "6db6da06-f9df-4a1b-8b06-c88123190447"
      },
      "outputs": [
        {
          "name": "stdout",
          "output_type": "stream",
          "text": [
            "Epoch 1/100\n",
            "32/32 [==============================] - 4s 18ms/step - loss: 0.6904 - accuracy: 0.6053 - val_loss: 0.6841 - val_accuracy: 0.7507 - lr: 5.0000e-05\n",
            "Epoch 2/100\n",
            "32/32 [==============================] - 0s 7ms/step - loss: 0.6805 - accuracy: 0.7250 - val_loss: 0.6678 - val_accuracy: 0.7478 - lr: 5.0000e-05\n",
            "Epoch 3/100\n",
            "32/32 [==============================] - 0s 11ms/step - loss: 0.6599 - accuracy: 0.7735 - val_loss: 0.6389 - val_accuracy: 0.7626 - lr: 5.0000e-05\n",
            "Epoch 4/100\n",
            "32/32 [==============================] - 0s 12ms/step - loss: 0.6259 - accuracy: 0.7804 - val_loss: 0.5970 - val_accuracy: 0.8042 - lr: 5.0000e-05\n",
            "Epoch 5/100\n",
            "32/32 [==============================] - 0s 11ms/step - loss: 0.5773 - accuracy: 0.7943 - val_loss: 0.5464 - val_accuracy: 0.8131 - lr: 5.0000e-05\n",
            "Epoch 6/100\n",
            "32/32 [==============================] - 0s 10ms/step - loss: 0.5273 - accuracy: 0.7903 - val_loss: 0.4884 - val_accuracy: 0.8190 - lr: 5.0000e-05\n",
            "Epoch 7/100\n",
            "32/32 [==============================] - 0s 8ms/step - loss: 0.4796 - accuracy: 0.8091 - val_loss: 0.4485 - val_accuracy: 0.8131 - lr: 5.0000e-05\n",
            "Epoch 8/100\n",
            "32/32 [==============================] - 0s 12ms/step - loss: 0.4520 - accuracy: 0.8111 - val_loss: 0.4235 - val_accuracy: 0.8220 - lr: 5.0000e-05\n",
            "Epoch 9/100\n",
            "32/32 [==============================] - 0s 8ms/step - loss: 0.4267 - accuracy: 0.8180 - val_loss: 0.4109 - val_accuracy: 0.8160 - lr: 5.0000e-05\n",
            "Epoch 10/100\n",
            "32/32 [==============================] - 0s 7ms/step - loss: 0.4196 - accuracy: 0.8140 - val_loss: 0.4398 - val_accuracy: 0.8012 - lr: 5.0000e-05\n",
            "Epoch 11/100\n",
            "31/32 [============================>.] - ETA: 0s - loss: 0.4176 - accuracy: 0.8165\n",
            "Epoch 11: ReduceLROnPlateau reducing learning rate to 4.999999873689376e-06.\n",
            "32/32 [==============================] - 0s 10ms/step - loss: 0.4200 - accuracy: 0.8140 - val_loss: 0.4117 - val_accuracy: 0.8160 - lr: 5.0000e-05\n",
            "Epoch 12/100\n",
            "32/32 [==============================] - 1s 16ms/step - loss: 0.4010 - accuracy: 0.8289 - val_loss: 0.4010 - val_accuracy: 0.8279 - lr: 5.0000e-06\n",
            "Epoch 13/100\n",
            "32/32 [==============================] - 0s 15ms/step - loss: 0.4039 - accuracy: 0.8210 - val_loss: 0.3969 - val_accuracy: 0.8338 - lr: 5.0000e-06\n",
            "Epoch 14/100\n",
            "32/32 [==============================] - 1s 17ms/step - loss: 0.4022 - accuracy: 0.8229 - val_loss: 0.3959 - val_accuracy: 0.8368 - lr: 5.0000e-06\n",
            "Epoch 15/100\n",
            "32/32 [==============================] - 0s 11ms/step - loss: 0.3985 - accuracy: 0.8259 - val_loss: 0.3957 - val_accuracy: 0.8368 - lr: 5.0000e-06\n",
            "Epoch 16/100\n",
            "32/32 [==============================] - 0s 11ms/step - loss: 0.4010 - accuracy: 0.8348 - val_loss: 0.3941 - val_accuracy: 0.8368 - lr: 5.0000e-06\n",
            "Epoch 17/100\n",
            "31/32 [============================>.] - ETA: 0s - loss: 0.3992 - accuracy: 0.8256\n",
            "Epoch 17: ReduceLROnPlateau reducing learning rate to 4.999999873689376e-07.\n",
            "32/32 [==============================] - 0s 12ms/step - loss: 0.4027 - accuracy: 0.8239 - val_loss: 0.3951 - val_accuracy: 0.8368 - lr: 5.0000e-06\n",
            "Epoch 18/100\n",
            "32/32 [==============================] - 0s 8ms/step - loss: 0.4024 - accuracy: 0.8279 - val_loss: 0.3953 - val_accuracy: 0.8368 - lr: 5.0000e-07\n",
            "Epoch 19/100\n",
            "32/32 [==============================] - 0s 9ms/step - loss: 0.3997 - accuracy: 0.8269 - val_loss: 0.3950 - val_accuracy: 0.8368 - lr: 5.0000e-07\n",
            "Epoch 20/100\n",
            "27/32 [========================>.....] - ETA: 0s - loss: 0.3947 - accuracy: 0.8241\n",
            "Epoch 20: ReduceLROnPlateau reducing learning rate to 4.999999987376214e-08.\n",
            "32/32 [==============================] - 0s 8ms/step - loss: 0.3941 - accuracy: 0.8269 - val_loss: 0.3949 - val_accuracy: 0.8368 - lr: 5.0000e-07\n",
            "Epoch 21/100\n",
            "32/32 [==============================] - 0s 8ms/step - loss: 0.3992 - accuracy: 0.8279 - val_loss: 0.3949 - val_accuracy: 0.8368 - lr: 5.0000e-08\n",
            "Epoch 22/100\n",
            "32/32 [==============================] - 0s 9ms/step - loss: 0.4063 - accuracy: 0.8328 - val_loss: 0.3949 - val_accuracy: 0.8368 - lr: 5.0000e-08\n",
            "Epoch 23/100\n",
            "28/32 [=========================>....] - ETA: 0s - loss: 0.4019 - accuracy: 0.8281Restoring model weights from the end of the best epoch: 14.\n",
            "\n",
            "Epoch 23: ReduceLROnPlateau reducing learning rate to 5.000000058430488e-09.\n",
            "32/32 [==============================] - 0s 8ms/step - loss: 0.4021 - accuracy: 0.8289 - val_loss: 0.3949 - val_accuracy: 0.8368 - lr: 5.0000e-08\n",
            "Epoch 23: early stopping\n"
          ]
        },
        {
          "data": {
            "image/png": "[encoded data removed]",
            "text/plain": [
              "<Figure size 640x480 with 1 Axes>"
            ]
          },
          "metadata": {},
          "output_type": "display_data"
        },
        {
          "data": {
            "image/png": "[encoded data removed]",
            "text/plain": [
              "<Figure size 640x480 with 1 Axes>"
            ]
          },
          "metadata": {},
          "output_type": "display_data"
        }
      ],
      "source": [
        "# Define the callbacks\n",
        "early_stopping = EarlyStopping(monitor='val_accuracy', patience=9, verbose=1, restore_best_weights=True)\n",
        "reduce_lr = ReduceLROnPlateau(monitor='val_accuracy', factor=0.1, patience=3, verbose=1)\n",
        "model_checkpoint = ModelCheckpoint('best_weights.h5', monitor='val_accuracy', save_best_only=True)\n",
        "\n",
        "input_shape1 = (1024,)\n",
        "input_shape2 = (1024,)\n",
        "\n",
        "# Define the inputs for the two branches of the network\n",
        "input1 = Input(shape=input_shape1)\n",
        "input2 = Input(shape=input_shape2)\n",
        "\n",
        "# Define the layers for the first branch of the network\n",
        "x1 = Dense(512, activation='relu')(input1)\n",
        "x1 = Dropout(rate=0.2)(x1)\n",
        "x1 = Dense(256, activation='relu')(x1)\n",
        "x1 = Dropout(rate=0.2)(x1)\n",
        "x1 = Dense(128, activation='relu')(x1)\n",
        "x1 = Dropout(rate=0.2)(x1)\n",
        "x1 = Dense(64, activation='relu')(x1)\n",
        "output1 = x1\n",
        "modeldrug = Model(input1, output1)\n",
        "modeldrug.compile(loss='kl-divergence', optimizer=SGD(learning_rate=0.0005), metrics=['accuracy'])\n",
        "# Define the layers for the second branch of the network\n",
        "x2 = Dense(512, activation='relu')(input2)\n",
        "x2 = Dropout(rate=0.2)(x2)\n",
        "x2 = Dense(256, activation='relu')(x2)\n",
        "x2 = Dropout(rate=0.2)(x2)\n",
        "x2 = Dense(128, activation='relu')(x2)\n",
        "x2 = Dropout(rate=0.2)(x2)\n",
        "x2 = Dense(64, activation='relu')(x2)\n",
        "output2 = x2\n",
        "modeldisease = Model(input2, output2)\n",
        "modeldisease.compile(loss='kl-divergence', optimizer=SGD(learning_rate=0.0005), metrics=['accuracy'])\n",
        "# Subtract the embeddings from the two branches\n",
        "diff = Subtract()([output1, output2])\n",
        "diff = Lambda(lambda d: abs(d))(diff)\n",
        "# diff = Dropout(0.2)(diff)\n",
        "concat = Dense(32, activation= 'relu')(diff)\n",
        "# concat = Dropout(rate=0.2)(concat)\n",
        "\n",
        "\n",
        "# Define the output layer\n",
        "output = Dense(1, activation='sigmoid')(concat)\n",
        "\n",
        "# Define the model\n",
        "simmodel = Model(inputs=[input1, input2], outputs=output)\n",
        "\n",
        "# Define the optimizer and compile the model\n",
        "optimizer = Adam(learning_rate=0.00005)\n",
        "simmodel.compile(loss='binary_crossentropy', optimizer=optimizer, metrics=['accuracy'])\n",
        "\n",
        "# # Define the class weights\n",
        "class_weights = {0: 1, 1: 1966/748 } # inverse frequency weighting\n",
        "\n",
        "\n",
        "# Train the model on your data with the defined callbacks\n",
        "\n",
        "X_me = np.array(X_me)\n",
        "Y_me = np.array(Y_me)\n",
        "X = np.array(X)\n",
        "y = np.array(y)\n",
        "l_v = np.array(X_me[:, :1024])\n",
        "r_v = np.array(X_me[:, 1024:])\n",
        "\n",
        "x_train, x_val, y_train, y_val = train_test_split(X, y)\n",
        "\n",
        "l = np.array(x_train[:, :1024])\n",
        "r = np.array(x_train[:, 1024:])\n",
        "\n",
        "\n",
        "l_val = np.array(x_val[:, :1024])\n",
        "r_val = np.array(x_val[:, 1024:])\n",
        "\n",
        "history = simmodel.fit([l, r], y_train, batch_size=32, epochs=100,validation_data=([l_val, r_val], y_val), callbacks=[early_stopping, reduce_lr, model_checkpoint])\n",
        "\n",
        "# history = simmodel.fit([l, r], y_train, batch_size= 32, epochs= 300, class_weight=class_weights, validation_data=([l_val, r_val],y_val)\n",
        "                  # ,callbacks=[callback]\n",
        "                  # )\n",
        "model_history(history)\n",
        "\n"
      ]
    },
    {
      "cell_type": "code",
      "execution_count": null,
      "metadata": {
        "colab": {
          "background_save": true
        },
        "id": "kNi2KQQalAeN",
        "outputId": "ecec2854-637d-4b5f-a206-27f330f198d2"
      },
      "outputs": [
        {
          "name": "stdout",
          "output_type": "stream",
          "text": [
            "5/5 [==============================] - 0s 5ms/step - loss: 0.3405 - accuracy: 0.8618\n",
            "[0.3404821455478668, 0.8618420958518982]\n",
            "5/5 [==============================] - 0s 3ms/step\n",
            "auc-roc =  0.9331254331254331\n",
            "auc-pr =  0.9256623743767484\n",
            "Brier score: 0.10376330152805462\n",
            "Cohen Kapp score: 0.7243523316062177\n",
            "MCC score: 0.7294603209022543\n"
          ]
        }
      ],
      "source": [
        "print(simmodel.evaluate([l_v, r_v], Y_me))\n",
        "y_hat= simmodel.predict([l_v, r_v])\n",
        "A = roc_auc_score(Y_me, y_hat)\n",
        "print(\"auc-roc = \", A)\n",
        "\n",
        "precision, recall, thresholds = precision_recall_curve(Y_me, y_hat)\n",
        "PR = auc(recall, precision)\n",
        "\n",
        "print(\"auc-pr = \", PR)\n",
        "\n",
        "print(\"Brier score:\", brier_score_loss(Y_me, y_hat))\n",
        "\n",
        "y_hat_e = []\n",
        "for item in y_hat:\n",
        "  if item >= 0.5:\n",
        "    y_hat_e.append(1)\n",
        "  else:\n",
        "    y_hat_e.append(0)\n",
        "print(\"Cohen Kapp score:\", cohen_kappa_score(Y_me, y_hat_e))\n",
        "print(\"MCC score:\", matthews_corrcoef(Y_me, y_hat_e))"
      ]
    },
    {
      "attachments": {},
      "cell_type": "markdown",
      "metadata": {
        "id": "8jG8n8m-kFwk"
      },
      "source": [
        "##  Oversample Using Random method"
      ]
    },
    {
      "cell_type": "code",
      "execution_count": null,
      "metadata": {
        "colab": {
          "background_save": true
        },
        "id": "U5bKlFQUkIPE",
        "outputId": "e478b957-f8c9-44c7-e065-e913878ab403"
      },
      "outputs": [
        {
          "name": "stdout",
          "output_type": "stream",
          "text": [
            "3587\n"
          ]
        }
      ],
      "source": [
        "frames = [has, hasnt]\n",
        "f = pd.concat(frames)\n",
        "X=[]\n",
        "for idx, row in f.iterrows():\n",
        "  X.append(np.concatenate((model1.wv[(row.drug_id).lower()].reshape((1,1024)), model1.wv[(row.ind_id).lower()].reshape((1,1024))), axis=None))\n",
        "\n",
        "\n",
        "y=np.zeros((len(X), ))\n",
        "\n",
        "for i in range(has.shape[0]):\n",
        "  y[i]=1\n",
        "\n",
        "# the main test set\n",
        "X_me = []\n",
        "Y_me = []\n",
        "for a in A_test:\n",
        "  sample = a.split(\" \")\n",
        "  dname =sample[0]\n",
        "  disname = sample[2].split(\".\")\n",
        "  X_me.append(np.concatenate((model1.wv[(dname.rstrip().lower())].reshape((1, 1024)), model1.wv[(disname[0].lstrip().lower())].reshape((1, 1024))), axis=None))\n",
        "  Y_me.append(1)\n",
        "for idx, i in I.iterrows():\n",
        "  if(i.ind_id in my_disease_list and i.drug_id in my_drug_list):\n",
        "    X_me.append(np.concatenate((model1.wv[i.drug_id.lower()].reshape((1, 1024)), model1.wv[i.ind_id.lower()].reshape((1, 1024))), axis=None))\n",
        "    Y_me.append(0)\n",
        "\n",
        "over = RandomOverSampler(sampling_strategy=0.9)\n",
        "X, y = over.fit_resample(X,y)\n",
        "print(len(X))"
      ]
    },
    {
      "cell_type": "code",
      "execution_count": null,
      "metadata": {
        "colab": {
          "background_save": true
        },
        "id": "B-84_rSdkIPG",
        "outputId": "1e5c50be-3acf-4893-9f4c-cd2135ee386d"
      },
      "outputs": [
        {
          "name": "stdout",
          "output_type": "stream",
          "text": [
            "Epoch 1/100\n",
            "85/85 [==============================] - 4s 10ms/step - loss: 0.6808 - accuracy: 0.6175 - val_loss: 0.6472 - val_accuracy: 0.7726 - lr: 5.0000e-05\n",
            "Epoch 2/100\n",
            "85/85 [==============================] - 1s 8ms/step - loss: 0.6043 - accuracy: 0.7677 - val_loss: 0.5132 - val_accuracy: 0.8194 - lr: 5.0000e-05\n",
            "Epoch 3/100\n",
            "85/85 [==============================] - 1s 8ms/step - loss: 0.4871 - accuracy: 0.7933 - val_loss: 0.4243 - val_accuracy: 0.8227 - lr: 5.0000e-05\n",
            "Epoch 4/100\n",
            "85/85 [==============================] - 1s 9ms/step - loss: 0.4333 - accuracy: 0.8086 - val_loss: 0.4000 - val_accuracy: 0.8328 - lr: 5.0000e-05\n",
            "Epoch 5/100\n",
            "85/85 [==============================] - 1s 10ms/step - loss: 0.4213 - accuracy: 0.8112 - val_loss: 0.3973 - val_accuracy: 0.8272 - lr: 5.0000e-05\n",
            "Epoch 6/100\n",
            "85/85 [==============================] - 1s 11ms/step - loss: 0.4050 - accuracy: 0.8197 - val_loss: 0.3824 - val_accuracy: 0.8372 - lr: 5.0000e-05\n",
            "Epoch 7/100\n",
            "85/85 [==============================] - 1s 9ms/step - loss: 0.4040 - accuracy: 0.8156 - val_loss: 0.3770 - val_accuracy: 0.8350 - lr: 5.0000e-05\n",
            "Epoch 8/100\n",
            "85/85 [==============================] - 1s 8ms/step - loss: 0.3966 - accuracy: 0.8204 - val_loss: 0.3733 - val_accuracy: 0.8361 - lr: 5.0000e-05\n",
            "Epoch 9/100\n",
            "76/85 [=========================>....] - ETA: 0s - loss: 0.3903 - accuracy: 0.8265\n",
            "Epoch 9: ReduceLROnPlateau reducing learning rate to 4.999999873689376e-06.\n",
            "85/85 [==============================] - 1s 7ms/step - loss: 0.3876 - accuracy: 0.8297 - val_loss: 0.3757 - val_accuracy: 0.8339 - lr: 5.0000e-05\n",
            "Epoch 10/100\n",
            "85/85 [==============================] - 1s 7ms/step - loss: 0.3845 - accuracy: 0.8275 - val_loss: 0.3720 - val_accuracy: 0.8372 - lr: 5.0000e-06\n",
            "Epoch 11/100\n",
            "85/85 [==============================] - 1s 7ms/step - loss: 0.3852 - accuracy: 0.8238 - val_loss: 0.3718 - val_accuracy: 0.8372 - lr: 5.0000e-06\n",
            "Epoch 12/100\n",
            "85/85 [==============================] - 1s 9ms/step - loss: 0.3874 - accuracy: 0.8268 - val_loss: 0.3712 - val_accuracy: 0.8395 - lr: 5.0000e-06\n",
            "Epoch 13/100\n",
            "85/85 [==============================] - 1s 8ms/step - loss: 0.3825 - accuracy: 0.8257 - val_loss: 0.3697 - val_accuracy: 0.8372 - lr: 5.0000e-06\n",
            "Epoch 14/100\n",
            "85/85 [==============================] - 1s 7ms/step - loss: 0.3825 - accuracy: 0.8275 - val_loss: 0.3713 - val_accuracy: 0.8372 - lr: 5.0000e-06\n",
            "Epoch 15/100\n",
            "85/85 [==============================] - ETA: 0s - loss: 0.3811 - accuracy: 0.8294\n",
            "Epoch 15: ReduceLROnPlateau reducing learning rate to 4.999999873689376e-07.\n",
            "85/85 [==============================] - 1s 7ms/step - loss: 0.3811 - accuracy: 0.8294 - val_loss: 0.3701 - val_accuracy: 0.8395 - lr: 5.0000e-06\n",
            "Epoch 16/100\n",
            "85/85 [==============================] - 1s 7ms/step - loss: 0.3825 - accuracy: 0.8260 - val_loss: 0.3698 - val_accuracy: 0.8384 - lr: 5.0000e-07\n",
            "Epoch 17/100\n",
            "85/85 [==============================] - 1s 7ms/step - loss: 0.3838 - accuracy: 0.8238 - val_loss: 0.3699 - val_accuracy: 0.8384 - lr: 5.0000e-07\n",
            "Epoch 18/100\n",
            "79/85 [==========================>...] - ETA: 0s - loss: 0.3793 - accuracy: 0.8307\n",
            "Epoch 18: ReduceLROnPlateau reducing learning rate to 4.999999987376214e-08.\n",
            "85/85 [==============================] - 1s 8ms/step - loss: 0.3763 - accuracy: 0.8316 - val_loss: 0.3697 - val_accuracy: 0.8395 - lr: 5.0000e-07\n",
            "Epoch 19/100\n",
            "85/85 [==============================] - 1s 7ms/step - loss: 0.3828 - accuracy: 0.8271 - val_loss: 0.3697 - val_accuracy: 0.8395 - lr: 5.0000e-08\n",
            "Epoch 20/100\n",
            "85/85 [==============================] - 1s 7ms/step - loss: 0.3816 - accuracy: 0.8361 - val_loss: 0.3697 - val_accuracy: 0.8395 - lr: 5.0000e-08\n",
            "Epoch 21/100\n",
            "85/85 [==============================] - ETA: 0s - loss: 0.3853 - accuracy: 0.8245Restoring model weights from the end of the best epoch: 12.\n",
            "\n",
            "Epoch 21: ReduceLROnPlateau reducing learning rate to 5.000000058430488e-09.\n",
            "85/85 [==============================] - 1s 7ms/step - loss: 0.3853 - accuracy: 0.8245 - val_loss: 0.3697 - val_accuracy: 0.8384 - lr: 5.0000e-08\n",
            "Epoch 21: early stopping\n"
          ]
        },
        {
          "data": {
            "image/png": "[encoded data removed]",
            "text/plain": [
              "<Figure size 640x480 with 1 Axes>"
            ]
          },
          "metadata": {},
          "output_type": "display_data"
        },
        {
          "data": {
            "image/png": "[encoded data removed]",
            "text/plain": [
              "<Figure size 640x480 with 1 Axes>"
            ]
          },
          "metadata": {},
          "output_type": "display_data"
        }
      ],
      "source": [
        "# Define the callbacks\n",
        "early_stopping = EarlyStopping(monitor='val_accuracy', patience=9, verbose=1, restore_best_weights=True)\n",
        "reduce_lr = ReduceLROnPlateau(monitor='val_accuracy', factor=0.1, patience=3, verbose=1)\n",
        "model_checkpoint = ModelCheckpoint('best_weights.h5', monitor='val_accuracy', save_best_only=True)\n",
        "\n",
        "input_shape1 = (1024,)\n",
        "input_shape2 = (1024,)\n",
        "\n",
        "# Define the inputs for the two branches of the network\n",
        "input1 = Input(shape=input_shape1)\n",
        "input2 = Input(shape=input_shape2)\n",
        "\n",
        "# Define the layers for the first branch of the network\n",
        "x1 = Dense(512, activation='relu')(input1)\n",
        "x1 = Dropout(rate=0.2)(x1)\n",
        "x1 = Dense(256, activation='relu')(x1)\n",
        "x1 = Dropout(rate=0.2)(x1)\n",
        "x1 = Dense(128, activation='relu')(x1)\n",
        "x1 = Dropout(rate=0.2)(x1)\n",
        "x1 = Dense(64, activation='relu')(x1)\n",
        "output1 = x1\n",
        "modeldrug = Model(input1, output1)\n",
        "modeldrug.compile(loss='kl-divergence', optimizer=SGD(learning_rate=0.0005), metrics=['accuracy'])\n",
        "# Define the layers for the second branch of the network\n",
        "x2 = Dense(512, activation='relu')(input2)\n",
        "x2 = Dropout(rate=0.2)(x2)\n",
        "x2 = Dense(256, activation='relu')(x2)\n",
        "x2 = Dropout(rate=0.2)(x2)\n",
        "x2 = Dense(128, activation='relu')(x2)\n",
        "x2 = Dropout(rate=0.2)(x2)\n",
        "x2 = Dense(64, activation='relu')(x2)\n",
        "output2 = x2\n",
        "modeldisease = Model(input2, output2)\n",
        "modeldisease.compile(loss='kl-divergence', optimizer=SGD(learning_rate=0.0005), metrics=['accuracy'])\n",
        "# Subtract the embeddings from the two branches\n",
        "diff = Subtract()([output1, output2])\n",
        "diff = Lambda(lambda d: abs(d))(diff)\n",
        "# diff = Dropout(0.2)(diff)\n",
        "concat = Dense(32, activation= 'relu')(diff)\n",
        "# concat = Dropout(rate=0.2)(concat)\n",
        "\n",
        "\n",
        "# Define the output layer\n",
        "output = Dense(1, activation='sigmoid')(concat)\n",
        "\n",
        "# Define the model\n",
        "simmodel = Model(inputs=[input1, input2], outputs=output)\n",
        "\n",
        "# Define the optimizer and compile the model\n",
        "optimizer = Adam(learning_rate=0.00005)\n",
        "simmodel.compile(loss='binary_crossentropy', optimizer=optimizer, metrics=['accuracy'])\n",
        "\n",
        "# # Define the class weights\n",
        "class_weights = {0: 1, 1: 1966/748 } # inverse frequency weighting\n",
        "\n",
        "\n",
        "# Train the model on your data with the defined callbacks\n",
        "\n",
        "X_me = np.array(X_me)\n",
        "Y_me = np.array(Y_me)\n",
        "X = np.array(X)\n",
        "y = np.array(y)\n",
        "l_v = np.array(X_me[:, :1024])\n",
        "r_v = np.array(X_me[:, 1024:])\n",
        "\n",
        "x_train, x_val, y_train, y_val = train_test_split(X, y)\n",
        "\n",
        "l = np.array(x_train[:, :1024])\n",
        "r = np.array(x_train[:, 1024:])\n",
        "\n",
        "\n",
        "l_val = np.array(x_val[:, :1024])\n",
        "r_val = np.array(x_val[:, 1024:])\n",
        "\n",
        "history = simmodel.fit([l, r], y_train, batch_size=32, epochs=100,validation_data=([l_val, r_val], y_val), callbacks=[early_stopping, reduce_lr, model_checkpoint])\n",
        "\n",
        "# history = simmodel.fit([l, r], y_train, batch_size= 32, epochs= 300, class_weight=class_weights, validation_data=([l_val, r_val],y_val)\n",
        "                  # ,callbacks=[callback]\n",
        "                  # )\n",
        "model_history(history)\n",
        "\n"
      ]
    },
    {
      "cell_type": "code",
      "execution_count": null,
      "metadata": {
        "colab": {
          "background_save": true
        },
        "id": "-SUvoedjlDMv",
        "outputId": "2cf03233-e6b1-47a0-dab3-910147cf6c40"
      },
      "outputs": [
        {
          "name": "stdout",
          "output_type": "stream",
          "text": [
            "5/5 [==============================] - 0s 6ms/step - loss: 0.3201 - accuracy: 0.8684\n",
            "[0.32012248039245605, 0.8684210777282715]\n",
            "5/5 [==============================] - 0s 3ms/step\n",
            "auc-roc =  0.9381496881496882\n",
            "auc-pr =  0.9182412407713727\n",
            "Brier score: 0.09602379660929158\n",
            "Cohen Kapp score: 0.7370242214532872\n",
            "MCC score: 0.738045738045738\n"
          ]
        }
      ],
      "source": [
        "print(simmodel.evaluate([l_v, r_v], Y_me))\n",
        "y_hat= simmodel.predict([l_v, r_v])\n",
        "A = roc_auc_score(Y_me, y_hat)\n",
        "print(\"auc-roc = \", A)\n",
        "\n",
        "precision, recall, thresholds = precision_recall_curve(Y_me, y_hat)\n",
        "PR = auc(recall, precision)\n",
        "\n",
        "print(\"auc-pr = \", PR)\n",
        "\n",
        "print(\"Brier score:\", brier_score_loss(Y_me, y_hat))\n",
        "\n",
        "y_hat_e = []\n",
        "for item in y_hat:\n",
        "  if item >= 0.5:\n",
        "    y_hat_e.append(1)\n",
        "  else:\n",
        "    y_hat_e.append(0)\n",
        "print(\"Cohen Kapp score:\", cohen_kappa_score(Y_me, y_hat_e))\n",
        "print(\"MCC score:\", matthews_corrcoef(Y_me, y_hat_e))"
      ]
    },
    {
      "attachments": {},
      "cell_type": "markdown",
      "metadata": {
        "id": "AobYaPCjkYoL"
      },
      "source": [
        "##  oversample using SMOTE"
      ]
    },
    {
      "cell_type": "code",
      "execution_count": null,
      "metadata": {
        "colab": {
          "background_save": true
        },
        "id": "wyFuXc15kcUi",
        "outputId": "8f3e7ef9-8bec-4a66-9b33-82de237d7696"
      },
      "outputs": [
        {
          "name": "stdout",
          "output_type": "stream",
          "text": [
            "3587\n"
          ]
        }
      ],
      "source": [
        "frames = [has, hasnt]\n",
        "f = pd.concat(frames)\n",
        "X=[]\n",
        "for idx, row in f.iterrows():\n",
        "  X.append(np.concatenate((model1.wv[(row.drug_id).lower()].reshape((1,1024)), model1.wv[(row.ind_id).lower()].reshape((1,1024))), axis=None))\n",
        "\n",
        "\n",
        "y=np.zeros((len(X), ))\n",
        "\n",
        "for i in range(has.shape[0]):\n",
        "  y[i]=1\n",
        "\n",
        "# the main test set\n",
        "X_me = []\n",
        "Y_me = []\n",
        "for a in A_test:\n",
        "  sample = a.split(\" \")\n",
        "  dname =sample[0]\n",
        "  disname = sample[2].split(\".\")\n",
        "  X_me.append(np.concatenate((model1.wv[(dname.rstrip().lower())].reshape((1, 1024)), model1.wv[(disname[0].lstrip().lower())].reshape((1, 1024))), axis=None))\n",
        "  Y_me.append(1)\n",
        "for idx, i in I.iterrows():\n",
        "  if(i.ind_id in my_disease_list and i.drug_id in my_drug_list):\n",
        "    X_me.append(np.concatenate((model1.wv[i.drug_id.lower()].reshape((1, 1024)), model1.wv[i.ind_id.lower()].reshape((1, 1024))), axis=None))\n",
        "    Y_me.append(0)\n",
        "\n",
        "\n",
        "over = SMOTE(sampling_strategy=0.9)\n",
        "# over = RandomOverSampler(0.9)\n",
        "X, y = over.fit_resample(X,y)\n",
        "print(len(X))"
      ]
    },
    {
      "cell_type": "code",
      "execution_count": null,
      "metadata": {
        "colab": {
          "background_save": true
        },
        "id": "FeRfqJxekcUk",
        "outputId": "1f39ec7b-9040-4a70-bf28-463a3864a51c"
      },
      "outputs": [
        {
          "name": "stdout",
          "output_type": "stream",
          "text": [
            "Epoch 1/100\n",
            "85/85 [==============================] - 5s 11ms/step - loss: 0.6798 - accuracy: 0.7019 - val_loss: 0.6410 - val_accuracy: 0.8049 - lr: 5.0000e-05\n",
            "Epoch 2/100\n",
            "85/85 [==============================] - 1s 9ms/step - loss: 0.6006 - accuracy: 0.7944 - val_loss: 0.5084 - val_accuracy: 0.8239 - lr: 5.0000e-05\n",
            "Epoch 3/100\n",
            "85/85 [==============================] - 1s 8ms/step - loss: 0.4871 - accuracy: 0.8011 - val_loss: 0.4238 - val_accuracy: 0.8239 - lr: 5.0000e-05\n",
            "Epoch 4/100\n",
            "85/85 [==============================] - 1s 8ms/step - loss: 0.4318 - accuracy: 0.8141 - val_loss: 0.3872 - val_accuracy: 0.8339 - lr: 5.0000e-05\n",
            "Epoch 5/100\n",
            "85/85 [==============================] - 1s 8ms/step - loss: 0.4163 - accuracy: 0.8130 - val_loss: 0.3862 - val_accuracy: 0.8384 - lr: 5.0000e-05\n",
            "Epoch 6/100\n",
            "85/85 [==============================] - 1s 9ms/step - loss: 0.4046 - accuracy: 0.8190 - val_loss: 0.3673 - val_accuracy: 0.8439 - lr: 5.0000e-05\n",
            "Epoch 7/100\n",
            "85/85 [==============================] - 1s 8ms/step - loss: 0.4005 - accuracy: 0.8242 - val_loss: 0.3619 - val_accuracy: 0.8384 - lr: 5.0000e-05\n",
            "Epoch 8/100\n",
            "85/85 [==============================] - 1s 7ms/step - loss: 0.3968 - accuracy: 0.8283 - val_loss: 0.3578 - val_accuracy: 0.8406 - lr: 5.0000e-05\n",
            "Epoch 9/100\n",
            "82/85 [===========================>..] - ETA: 0s - loss: 0.3846 - accuracy: 0.8274\n",
            "Epoch 9: ReduceLROnPlateau reducing learning rate to 4.999999873689376e-06.\n",
            "85/85 [==============================] - 1s 8ms/step - loss: 0.3872 - accuracy: 0.8257 - val_loss: 0.3523 - val_accuracy: 0.8406 - lr: 5.0000e-05\n",
            "Epoch 10/100\n",
            "85/85 [==============================] - 1s 7ms/step - loss: 0.3806 - accuracy: 0.8283 - val_loss: 0.3518 - val_accuracy: 0.8439 - lr: 5.0000e-06\n",
            "Epoch 11/100\n",
            "85/85 [==============================] - 1s 9ms/step - loss: 0.3821 - accuracy: 0.8264 - val_loss: 0.3513 - val_accuracy: 0.8439 - lr: 5.0000e-06\n",
            "Epoch 12/100\n",
            "85/85 [==============================] - 1s 12ms/step - loss: 0.3881 - accuracy: 0.8227 - val_loss: 0.3508 - val_accuracy: 0.8462 - lr: 5.0000e-06\n",
            "Epoch 13/100\n",
            "85/85 [==============================] - 1s 10ms/step - loss: 0.3813 - accuracy: 0.8316 - val_loss: 0.3505 - val_accuracy: 0.8450 - lr: 5.0000e-06\n",
            "Epoch 14/100\n",
            "85/85 [==============================] - 1s 8ms/step - loss: 0.3780 - accuracy: 0.8327 - val_loss: 0.3500 - val_accuracy: 0.8462 - lr: 5.0000e-06\n",
            "Epoch 15/100\n",
            "78/85 [==========================>...] - ETA: 0s - loss: 0.3822 - accuracy: 0.8257\n",
            "Epoch 15: ReduceLROnPlateau reducing learning rate to 4.999999873689376e-07.\n",
            "85/85 [==============================] - 1s 7ms/step - loss: 0.3784 - accuracy: 0.8286 - val_loss: 0.3494 - val_accuracy: 0.8462 - lr: 5.0000e-06\n",
            "Epoch 16/100\n",
            "85/85 [==============================] - 1s 8ms/step - loss: 0.3755 - accuracy: 0.8368 - val_loss: 0.3493 - val_accuracy: 0.8462 - lr: 5.0000e-07\n",
            "Epoch 17/100\n",
            "85/85 [==============================] - 1s 7ms/step - loss: 0.3745 - accuracy: 0.8372 - val_loss: 0.3493 - val_accuracy: 0.8462 - lr: 5.0000e-07\n",
            "Epoch 18/100\n",
            "76/85 [=========================>....] - ETA: 0s - loss: 0.3748 - accuracy: 0.8339\n",
            "Epoch 18: ReduceLROnPlateau reducing learning rate to 4.999999987376214e-08.\n",
            "85/85 [==============================] - 1s 7ms/step - loss: 0.3793 - accuracy: 0.8309 - val_loss: 0.3492 - val_accuracy: 0.8439 - lr: 5.0000e-07\n",
            "Epoch 19/100\n",
            "85/85 [==============================] - 1s 8ms/step - loss: 0.3893 - accuracy: 0.8264 - val_loss: 0.3492 - val_accuracy: 0.8439 - lr: 5.0000e-08\n",
            "Epoch 20/100\n",
            "85/85 [==============================] - 1s 8ms/step - loss: 0.3777 - accuracy: 0.8338 - val_loss: 0.3492 - val_accuracy: 0.8439 - lr: 5.0000e-08\n",
            "Epoch 21/100\n",
            "82/85 [===========================>..] - ETA: 0s - loss: 0.3829 - accuracy: 0.8239Restoring model weights from the end of the best epoch: 12.\n",
            "\n",
            "Epoch 21: ReduceLROnPlateau reducing learning rate to 5.000000058430488e-09.\n",
            "85/85 [==============================] - 1s 8ms/step - loss: 0.3820 - accuracy: 0.8253 - val_loss: 0.3492 - val_accuracy: 0.8439 - lr: 5.0000e-08\n",
            "Epoch 21: early stopping\n"
          ]
        },
        {
          "data": {
            "image/png": "[encoded data removed]",
            "text/plain": [
              "<Figure size 640x480 with 1 Axes>"
            ]
          },
          "metadata": {},
          "output_type": "display_data"
        },
        {
          "data": {
            "image/png": "[encoded data removed]",
            "text/plain": [
              "<Figure size 640x480 with 1 Axes>"
            ]
          },
          "metadata": {},
          "output_type": "display_data"
        }
      ],
      "source": [
        "# Define the callbacks\n",
        "early_stopping = EarlyStopping(monitor='val_accuracy', patience=9, verbose=1, restore_best_weights=True)\n",
        "reduce_lr = ReduceLROnPlateau(monitor='val_accuracy', factor=0.1, patience=3, verbose=1)\n",
        "model_checkpoint = ModelCheckpoint('best_weights.h5', monitor='val_accuracy', save_best_only=True)\n",
        "\n",
        "input_shape1 = (1024,)\n",
        "input_shape2 = (1024,)\n",
        "\n",
        "# Define the inputs for the two branches of the network\n",
        "input1 = Input(shape=input_shape1)\n",
        "input2 = Input(shape=input_shape2)\n",
        "\n",
        "# Define the layers for the first branch of the network\n",
        "x1 = Dense(512, activation='relu')(input1)\n",
        "x1 = Dropout(rate=0.2)(x1)\n",
        "x1 = Dense(256, activation='relu')(x1)\n",
        "x1 = Dropout(rate=0.2)(x1)\n",
        "x1 = Dense(128, activation='relu')(x1)\n",
        "x1 = Dropout(rate=0.2)(x1)\n",
        "x1 = Dense(64, activation='relu')(x1)\n",
        "output1 = x1\n",
        "modeldrug = Model(input1, output1)\n",
        "modeldrug.compile(loss='kl-divergence', optimizer=SGD(learning_rate=0.0005), metrics=['accuracy'])\n",
        "# Define the layers for the second branch of the network\n",
        "x2 = Dense(512, activation='relu')(input2)\n",
        "x2 = Dropout(rate=0.2)(x2)\n",
        "x2 = Dense(256, activation='relu')(x2)\n",
        "x2 = Dropout(rate=0.2)(x2)\n",
        "x2 = Dense(128, activation='relu')(x2)\n",
        "x2 = Dropout(rate=0.2)(x2)\n",
        "x2 = Dense(64, activation='relu')(x2)\n",
        "output2 = x2\n",
        "modeldisease = Model(input2, output2)\n",
        "modeldisease.compile(loss='kl-divergence', optimizer=SGD(learning_rate=0.0005), metrics=['accuracy'])\n",
        "# Subtract the embeddings from the two branches\n",
        "diff = Subtract()([output1, output2])\n",
        "diff = Lambda(lambda d: abs(d))(diff)\n",
        "# diff = Dropout(0.2)(diff)\n",
        "concat = Dense(32, activation= 'relu')(diff)\n",
        "# concat = Dropout(rate=0.2)(concat)\n",
        "\n",
        "\n",
        "# Define the output layer\n",
        "output = Dense(1, activation='sigmoid')(concat)\n",
        "\n",
        "# Define the model\n",
        "simmodel = Model(inputs=[input1, input2], outputs=output)\n",
        "\n",
        "# Define the optimizer and compile the model\n",
        "optimizer = Adam(learning_rate=0.00005)\n",
        "simmodel.compile(loss='binary_crossentropy', optimizer=optimizer, metrics=['accuracy'])\n",
        "\n",
        "# # Define the class weights\n",
        "class_weights = {0: 1, 1: 1966/748 } # inverse frequency weighting\n",
        "\n",
        "\n",
        "# Train the model on your data with the defined callbacks\n",
        "\n",
        "X_me = np.array(X_me)\n",
        "Y_me = np.array(Y_me)\n",
        "X = np.array(X)\n",
        "y = np.array(y)\n",
        "l_v = np.array(X_me[:, :1024])\n",
        "r_v = np.array(X_me[:, 1024:])\n",
        "\n",
        "x_train, x_val, y_train, y_val = train_test_split(X, y)\n",
        "\n",
        "l = np.array(x_train[:, :1024])\n",
        "r = np.array(x_train[:, 1024:])\n",
        "\n",
        "\n",
        "l_val = np.array(x_val[:, :1024])\n",
        "r_val = np.array(x_val[:, 1024:])\n",
        "\n",
        "history = simmodel.fit([l, r], y_train, batch_size=32, epochs=100,validation_data=([l_val, r_val], y_val), callbacks=[early_stopping, reduce_lr, model_checkpoint])\n",
        "\n",
        "# history = simmodel.fit([l, r], y_train, batch_size= 32, epochs= 300, class_weight=class_weights, validation_data=([l_val, r_val],y_val)\n",
        "                  # ,callbacks=[callback]\n",
        "                  # )\n",
        "model_history(history)\n",
        "\n"
      ]
    },
    {
      "cell_type": "code",
      "execution_count": null,
      "metadata": {
        "colab": {
          "background_save": true
        },
        "id": "tJyaKHY2lGHK",
        "outputId": "6c6d7f68-3dab-4186-f5d3-de6e9e5040c7"
      },
      "outputs": [
        {
          "name": "stdout",
          "output_type": "stream",
          "text": [
            "5/5 [==============================] - 0s 5ms/step - loss: 0.3236 - accuracy: 0.8684\n",
            "[0.3236018121242523, 0.8684210777282715]\n",
            "5/5 [==============================] - 0s 3ms/step\n",
            "auc-roc =  0.9372834372834373\n",
            "auc-pr =  0.9249771050165928\n",
            "Brier score: 0.09754309566486338\n",
            "Cohen Kapp score: 0.7370242214532872\n",
            "MCC score: 0.738045738045738\n"
          ]
        }
      ],
      "source": [
        "print(simmodel.evaluate([l_v, r_v], Y_me))\n",
        "y_hat= simmodel.predict([l_v, r_v])\n",
        "A = roc_auc_score(Y_me, y_hat)\n",
        "print(\"auc-roc = \", A)\n",
        "\n",
        "precision, recall, thresholds = precision_recall_curve(Y_me, y_hat)\n",
        "PR = auc(recall, precision)\n",
        "\n",
        "print(\"auc-pr = \", PR)\n",
        "\n",
        "print(\"Brier score:\", brier_score_loss(Y_me, y_hat))\n",
        "\n",
        "y_hat_e = []\n",
        "for item in y_hat:\n",
        "  if item >= 0.5:\n",
        "    y_hat_e.append(1)\n",
        "  else:\n",
        "    y_hat_e.append(0)\n",
        "print(\"Cohen Kapp score:\", cohen_kappa_score(Y_me, y_hat_e))\n",
        "print(\"MCC score:\", matthews_corrcoef(Y_me, y_hat_e))"
      ]
    },
    {
      "attachments": {},
      "cell_type": "markdown",
      "metadata": {
        "id": "D1GhuQZ-I5-F"
      },
      "source": [
        "## First oversample, Next Undersample"
      ]
    },
    {
      "cell_type": "code",
      "execution_count": null,
      "metadata": {
        "colab": {
          "background_save": true
        },
        "id": "Xd3osRxUL4Z9",
        "outputId": "b29d7734-b862-4ab3-c75f-31616ef77008"
      },
      "outputs": [
        {
          "name": "stdout",
          "output_type": "stream",
          "text": [
            "3587\n",
            "3398\n"
          ]
        }
      ],
      "source": [
        "\n",
        "frames = [has, hasnt]\n",
        "\n",
        "f = pd.concat(frames)\n",
        "X=[]\n",
        "for idx, row in f.iterrows():\n",
        "  X.append(np.concatenate((model1.wv[(row.drug_id).lower()].reshape((1,1024)), model1.wv[(row.ind_id).lower()].reshape((1,1024))), axis=None))\n",
        "\n",
        "y=np.zeros((len(X), ))\n",
        "\n",
        "for i in range(has.shape[0]):\n",
        "  y[i]=1\n",
        "\n",
        "from imblearn.over_sampling import SMOTE, RandomOverSampler\n",
        "from imblearn.under_sampling import RandomUnderSampler\n",
        "over = SMOTE(sampling_strategy=0.9)\n",
        "# over = RandomOverSampler(0.9)\n",
        "under = RandomUnderSampler()\n",
        "X, y = over.fit_resample(X,y)\n",
        "print(len(X))\n",
        "X,y = under.fit_resample(X,y)\n",
        "print(len(X))\n",
        "\n",
        "\n",
        "# the main test set\n",
        "X_me = []\n",
        "Y_me = []\n",
        "for a in A_test:\n",
        "  sample = a.split(\" \")\n",
        "  dname =sample[0]\n",
        "  disname = sample[2].split(\".\")\n",
        "  X_me.append(np.concatenate((model1.wv[(dname.rstrip().lower())].reshape((1, 1024)), model1.wv[(disname[0].lstrip().lower())].reshape((1, 1024))), axis=None))\n",
        "  Y_me.append(1)\n",
        "for idx, i in I.iterrows():\n",
        "  if(i.ind_id in my_disease_list and i.drug_id in my_drug_list):\n",
        "    X_me.append(np.concatenate((model1.wv[i.drug_id.lower()].reshape((1, 1024)), model1.wv[i.ind_id.lower()].reshape((1, 1024))), axis=None))\n",
        "    Y_me.append(0)"
      ]
    },
    {
      "cell_type": "code",
      "execution_count": null,
      "metadata": {
        "colab": {
          "background_save": true
        },
        "id": "IulJbCQm9jUS",
        "outputId": "b7228fcb-f8d5-4d45-9886-c0bb3e8a8e5e"
      },
      "outputs": [
        {
          "name": "stdout",
          "output_type": "stream",
          "text": [
            "Epoch 1/100\n",
            "80/80 [==============================] - 6s 11ms/step - loss: 0.6833 - accuracy: 0.5581 - val_loss: 0.6583 - val_accuracy: 0.7141 - lr: 5.0000e-05\n",
            "Epoch 2/100\n",
            "80/80 [==============================] - 1s 8ms/step - loss: 0.6200 - accuracy: 0.7567 - val_loss: 0.5539 - val_accuracy: 0.8035 - lr: 5.0000e-05\n",
            "Epoch 3/100\n",
            "80/80 [==============================] - 1s 8ms/step - loss: 0.5086 - accuracy: 0.8077 - val_loss: 0.4407 - val_accuracy: 0.8212 - lr: 5.0000e-05\n",
            "Epoch 4/100\n",
            "80/80 [==============================] - 1s 7ms/step - loss: 0.4327 - accuracy: 0.8171 - val_loss: 0.3961 - val_accuracy: 0.8212 - lr: 5.0000e-05\n",
            "Epoch 5/100\n",
            "80/80 [==============================] - 1s 8ms/step - loss: 0.4058 - accuracy: 0.8277 - val_loss: 0.3766 - val_accuracy: 0.8400 - lr: 5.0000e-05\n",
            "Epoch 6/100\n",
            "80/80 [==============================] - 1s 9ms/step - loss: 0.3828 - accuracy: 0.8312 - val_loss: 0.3700 - val_accuracy: 0.8447 - lr: 5.0000e-05\n",
            "Epoch 7/100\n",
            "80/80 [==============================] - 1s 7ms/step - loss: 0.3794 - accuracy: 0.8320 - val_loss: 0.3614 - val_accuracy: 0.8353 - lr: 5.0000e-05\n",
            "Epoch 8/100\n",
            "80/80 [==============================] - 1s 7ms/step - loss: 0.3631 - accuracy: 0.8509 - val_loss: 0.3547 - val_accuracy: 0.8376 - lr: 5.0000e-05\n",
            "Epoch 9/100\n",
            "80/80 [==============================] - 1s 8ms/step - loss: 0.3648 - accuracy: 0.8454 - val_loss: 0.3548 - val_accuracy: 0.8459 - lr: 5.0000e-05\n",
            "Epoch 10/100\n",
            "80/80 [==============================] - 1s 9ms/step - loss: 0.3579 - accuracy: 0.8422 - val_loss: 0.3535 - val_accuracy: 0.8518 - lr: 5.0000e-05\n",
            "Epoch 11/100\n",
            "80/80 [==============================] - 1s 8ms/step - loss: 0.3570 - accuracy: 0.8430 - val_loss: 0.3508 - val_accuracy: 0.8482 - lr: 5.0000e-05\n",
            "Epoch 12/100\n",
            "80/80 [==============================] - 1s 8ms/step - loss: 0.3510 - accuracy: 0.8493 - val_loss: 0.3455 - val_accuracy: 0.8471 - lr: 5.0000e-05\n",
            "Epoch 13/100\n",
            "71/80 [=========================>....] - ETA: 0s - loss: 0.3462 - accuracy: 0.8530\n",
            "Epoch 13: ReduceLROnPlateau reducing learning rate to 4.999999873689376e-06.\n",
            "80/80 [==============================] - 1s 7ms/step - loss: 0.3467 - accuracy: 0.8520 - val_loss: 0.3553 - val_accuracy: 0.8424 - lr: 5.0000e-05\n",
            "Epoch 14/100\n",
            "80/80 [==============================] - 1s 7ms/step - loss: 0.3491 - accuracy: 0.8513 - val_loss: 0.3458 - val_accuracy: 0.8482 - lr: 5.0000e-06\n",
            "Epoch 15/100\n",
            "80/80 [==============================] - 1s 10ms/step - loss: 0.3385 - accuracy: 0.8556 - val_loss: 0.3479 - val_accuracy: 0.8494 - lr: 5.0000e-06\n",
            "Epoch 16/100\n",
            "79/80 [============================>.] - ETA: 0s - loss: 0.3456 - accuracy: 0.8528\n",
            "Epoch 16: ReduceLROnPlateau reducing learning rate to 4.999999873689376e-07.\n",
            "80/80 [==============================] - 1s 10ms/step - loss: 0.3459 - accuracy: 0.8524 - val_loss: 0.3460 - val_accuracy: 0.8471 - lr: 5.0000e-06\n",
            "Epoch 17/100\n",
            "80/80 [==============================] - 1s 10ms/step - loss: 0.3410 - accuracy: 0.8552 - val_loss: 0.3459 - val_accuracy: 0.8471 - lr: 5.0000e-07\n",
            "Epoch 18/100\n",
            "80/80 [==============================] - 1s 10ms/step - loss: 0.3378 - accuracy: 0.8532 - val_loss: 0.3461 - val_accuracy: 0.8482 - lr: 5.0000e-07\n",
            "Epoch 19/100\n",
            "75/80 [===========================>..] - ETA: 0s - loss: 0.3450 - accuracy: 0.8558Restoring model weights from the end of the best epoch: 10.\n",
            "\n",
            "Epoch 19: ReduceLROnPlateau reducing learning rate to 4.999999987376214e-08.\n",
            "80/80 [==============================] - 1s 7ms/step - loss: 0.3450 - accuracy: 0.8564 - val_loss: 0.3459 - val_accuracy: 0.8471 - lr: 5.0000e-07\n",
            "Epoch 19: early stopping\n"
          ]
        },
        {
          "data": {
            "image/png": "[encoded data removed]",
            "text/plain": [
              "<Figure size 640x480 with 1 Axes>"
            ]
          },
          "metadata": {},
          "output_type": "display_data"
        },
        {
          "data": {
            "image/png": "[encoded data removed]",
            "text/plain": [
              "<Figure size 640x480 with 1 Axes>"
            ]
          },
          "metadata": {},
          "output_type": "display_data"
        }
      ],
      "source": [
        "# Define the callbacks\n",
        "early_stopping = EarlyStopping(monitor='val_accuracy', patience=9, verbose=1, restore_best_weights=True)\n",
        "reduce_lr = ReduceLROnPlateau(monitor='val_accuracy', factor=0.1, patience=3, verbose=1)\n",
        "model_checkpoint = ModelCheckpoint('best_weights.h5', monitor='val_accuracy', save_best_only=True)\n",
        "\n",
        "input_shape1 = (1024,)\n",
        "input_shape2 = (1024,)\n",
        "\n",
        "# Define the inputs for the two branches of the network\n",
        "input1 = Input(shape=input_shape1)\n",
        "input2 = Input(shape=input_shape2)\n",
        "\n",
        "# Define the layers for the first branch of the network\n",
        "x1 = Dense(512, activation='relu')(input1)\n",
        "x1 = Dropout(rate=0.2)(x1)\n",
        "x1 = Dense(256, activation='relu')(x1)\n",
        "x1 = Dropout(rate=0.2)(x1)\n",
        "x1 = Dense(128, activation='relu')(x1)\n",
        "x1 = Dropout(rate=0.2)(x1)\n",
        "x1 = Dense(64, activation='relu')(x1)\n",
        "output1 = x1\n",
        "modeldrug = Model(input1, output1)\n",
        "modeldrug.compile(loss='kl-divergence', optimizer=SGD(learning_rate=0.0005), metrics=['accuracy'])\n",
        "# Define the layers for the second branch of the network\n",
        "x2 = Dense(512, activation='relu')(input2)\n",
        "x2 = Dropout(rate=0.2)(x2)\n",
        "x2 = Dense(256, activation='relu')(x2)\n",
        "x2 = Dropout(rate=0.2)(x2)\n",
        "x2 = Dense(128, activation='relu')(x2)\n",
        "x2 = Dropout(rate=0.2)(x2)\n",
        "x2 = Dense(64, activation='relu')(x2)\n",
        "output2 = x2\n",
        "modeldisease = Model(input2, output2)\n",
        "modeldisease.compile(loss='kl-divergence', optimizer=SGD(learning_rate=0.0005), metrics=['accuracy'])\n",
        "# Subtract the embeddings from the two branches\n",
        "diff = Subtract()([output1, output2])\n",
        "diff = Lambda(lambda d: abs(d))(diff)\n",
        "# diff = Dropout(0.2)(diff)\n",
        "# Concatenate the absolute difference with the embeddings\n",
        "# concat = concatenate([output1, output2])\n",
        "concat = Dense(32, activation= 'relu')(diff)\n",
        "# concat = Dropout(rate=0.2)(concat)\n",
        "\n",
        "\n",
        "# Define the output layer\n",
        "output = Dense(1, activation='sigmoid')(concat)\n",
        "\n",
        "# Define the model\n",
        "simmodel = Model(inputs=[input1, input2], outputs=output)\n",
        "\n",
        "# Define the optimizer and compile the model\n",
        "optimizer = Adam(learning_rate=0.00005)\n",
        "simmodel.compile(loss='binary_crossentropy', optimizer=optimizer, metrics=['accuracy'])\n",
        "\n",
        "# # Define the class weights\n",
        "class_weights = {0: 1, 1: 1966/748 } # inverse frequency weighting\n",
        "\n",
        "\n",
        "# Train the model on your data with the defined callbacks\n",
        "\n",
        "X_me = np.array(X_me)\n",
        "Y_me = np.array(Y_me)\n",
        "X = np.array(X)\n",
        "y = np.array(y)\n",
        "l_v = np.array(X_me[:, :1024])\n",
        "r_v = np.array(X_me[:, 1024:])\n",
        "\n",
        "x_train, x_val, y_train, y_val = train_test_split(X, y)\n",
        "\n",
        "l = np.array(x_train[:, :1024])\n",
        "r = np.array(x_train[:, 1024:])\n",
        "\n",
        "\n",
        "l_val = np.array(x_val[:, :1024])\n",
        "r_val = np.array(x_val[:, 1024:])\n",
        "\n",
        "history = simmodel.fit([l, r], y_train, batch_size=32, epochs=100,validation_data=([l_val, r_val], y_val), callbacks=[early_stopping, reduce_lr, model_checkpoint])\n",
        "\n",
        "# history = simmodel.fit([l, r], y_train, batch_size= 32, epochs= 300, class_weight=class_weights, validation_data=([l_val, r_val],y_val)\n",
        "                  # ,callbacks=[callback]\n",
        "                  # )\n",
        "model_history(history)\n",
        "\n",
        "\n"
      ]
    },
    {
      "cell_type": "code",
      "execution_count": null,
      "metadata": {
        "id": "3NH-0Xt4iixd"
      },
      "outputs": [],
      "source": [
        "print(simmodel.evaluate([l_v, r_v], Y_me))\n",
        "y_hat= simmodel.predict([l_v, r_v])\n",
        "A = roc_auc_score(Y_me, y_hat)\n",
        "print(\"auc-roc = \", A)\n",
        "\n",
        "precision, recall, thresholds = precision_recall_curve(Y_me, y_hat)\n",
        "PR = auc(recall, precision)\n",
        "\n",
        "print(\"auc-pr = \", PR)\n",
        "\n",
        "print(\"Brier score:\", brier_score_loss(Y_me, y_hat))\n",
        "\n",
        "y_hat_e = []\n",
        "for item in y_hat:\n",
        "  if item >= 0.5:\n",
        "    y_hat_e.append(1)\n",
        "  else:\n",
        "    y_hat_e.append(0)\n",
        "print(\"Cohen Kapp score:\", cohen_kappa_score(Y_me, y_hat_e))\n",
        "print(\"MCC score:\", matthews_corrcoef(Y_me, y_hat_e))\n"
      ]
    },
    {
      "attachments": {},
      "cell_type": "markdown",
      "metadata": {
        "id": "sCs2OJFUpPsP"
      },
      "source": [
        "# Covid Drugs"
      ]
    },
    {
      "attachments": {},
      "cell_type": "markdown",
      "metadata": {
        "id": "aVuY5FiCvt_A"
      },
      "source": [
        "## Data"
      ]
    },
    {
      "cell_type": "code",
      "execution_count": 5,
      "metadata": {
        "colab": {
          "base_uri": "https://localhost:8080/",
          "height": 483
        },
        "id": "hgS3UGCwpOcD",
        "outputId": "4524e8c0-f6ea-41f5-afe5-76a9d3ee5006"
      },
      "outputs": [
        {
          "data": {
            "text/html": [
              "\n",
              "  <div id=\"df-97671e10-da1c-4e81-9fc6-d82d2d76edbe\">\n",
              "    <div class=\"colab-df-container\">\n",
              "      <div>\n",
              "<style scoped>\n",
              "    .dataframe tbody tr th:only-of-type {\n",
              "        vertical-align: middle;\n",
              "    }\n",
              "\n",
              "    .dataframe tbody tr th {\n",
              "        vertical-align: top;\n",
              "    }\n",
              "\n",
              "    .dataframe thead th {\n",
              "        text-align: right;\n",
              "    }\n",
              "</style>\n",
              "<table border=\"1\" class=\"dataframe\">\n",
              "  <thead>\n",
              "    <tr style=\"text-align: right;\">\n",
              "      <th></th>\n",
              "      <th>Drug name</th>\n",
              "      <th>drug_id</th>\n",
              "    </tr>\n",
              "  </thead>\n",
              "  <tbody>\n",
              "    <tr>\n",
              "      <th>0</th>\n",
              "      <td>Ritonavir</td>\n",
              "      <td>DB00503</td>\n",
              "    </tr>\n",
              "    <tr>\n",
              "      <th>1</th>\n",
              "      <td>Chloroquine</td>\n",
              "      <td>DB00608</td>\n",
              "    </tr>\n",
              "    <tr>\n",
              "      <th>2</th>\n",
              "      <td>Darunavir</td>\n",
              "      <td>DB01264</td>\n",
              "    </tr>\n",
              "    <tr>\n",
              "      <th>3</th>\n",
              "      <td>Lopinavir</td>\n",
              "      <td>DB01601</td>\n",
              "    </tr>\n",
              "    <tr>\n",
              "      <th>4</th>\n",
              "      <td>Galidesivir</td>\n",
              "      <td>DB11676</td>\n",
              "    </tr>\n",
              "    <tr>\n",
              "      <th>...</th>\n",
              "      <td>...</td>\n",
              "      <td>...</td>\n",
              "    </tr>\n",
              "    <tr>\n",
              "      <th>63</th>\n",
              "      <td>Fostamatinib</td>\n",
              "      <td>DB12010</td>\n",
              "    </tr>\n",
              "    <tr>\n",
              "      <th>64</th>\n",
              "      <td>Sotrovimab</td>\n",
              "      <td>DB16355</td>\n",
              "    </tr>\n",
              "    <tr>\n",
              "      <th>65</th>\n",
              "      <td>MM3122</td>\n",
              "      <td>DB16737</td>\n",
              "    </tr>\n",
              "    <tr>\n",
              "      <th>66</th>\n",
              "      <td>Cilgavimab</td>\n",
              "      <td>DB16393</td>\n",
              "    </tr>\n",
              "    <tr>\n",
              "      <th>67</th>\n",
              "      <td>Tixagevimab</td>\n",
              "      <td>DB16394</td>\n",
              "    </tr>\n",
              "  </tbody>\n",
              "</table>\n",
              "<p>68 rows × 2 columns</p>\n",
              "</div>\n",
              "      <button class=\"colab-df-convert\" onclick=\"convertToInteractive('df-97671e10-da1c-4e81-9fc6-d82d2d76edbe')\"\n",
              "              title=\"Convert this dataframe to an interactive table.\"\n",
              "              style=\"display:none;\">\n",
              "        \n",
              "  <svg xmlns=\"http://www.w3.org/2000/svg\" height=\"24px\"viewBox=\"0 0 24 24\"\n",
              "       width=\"24px\">\n",
              "    <path d=\"M0 0h24v24H0V0z\" fill=\"none\"/>\n",
              "    <path d=\"M18.56 5.44l.94 2.06.94-2.06 2.06-.94-2.06-.94-.94-2.06-.94 2.06-2.06.94zm-11 1L8.5 8.5l.94-2.06 2.06-.94-2.06-.94L8.5 2.5l-.94 2.06-2.06.94zm10 10l.94 2.06.94-2.06 2.06-.94-2.06-.94-.94-2.06-.94 2.06-2.06.94z\"/><path d=\"M17.41 7.96l-1.37-1.37c-.4-.4-.92-.59-1.43-.59-.52 0-1.04.2-1.43.59L10.3 9.45l-7.72 7.72c-.78.78-.78 2.05 0 2.83L4 21.41c.39.39.9.59 1.41.59.51 0 1.02-.2 1.41-.59l7.78-7.78 2.81-2.81c.8-.78.8-2.07 0-2.86zM5.41 20L4 18.59l7.72-7.72 1.47 1.35L5.41 20z\"/>\n",
              "  </svg>\n",
              "      </button>\n",
              "      \n",
              "  <style>\n",
              "    .colab-df-container {\n",
              "      display:flex;\n",
              "      flex-wrap:wrap;\n",
              "      gap: 12px;\n",
              "    }\n",
              "\n",
              "    .colab-df-convert {\n",
              "      background-color: #E8F0FE;\n",
              "      border: none;\n",
              "      border-radius: 50%;\n",
              "      cursor: pointer;\n",
              "      display: none;\n",
              "      fill: #1967D2;\n",
              "      height: 32px;\n",
              "      padding: 0 0 0 0;\n",
              "      width: 32px;\n",
              "    }\n",
              "\n",
              "    .colab-df-convert:hover {\n",
              "      background-color: #E2EBFA;\n",
              "      box-shadow: 0px 1px 2px rgba(60, 64, 67, 0.3), 0px 1px 3px 1px rgba(60, 64, 67, 0.15);\n",
              "      fill: #174EA6;\n",
              "    }\n",
              "\n",
              "    [theme=dark] .colab-df-convert {\n",
              "      background-color: #3B4455;\n",
              "      fill: #D2E3FC;\n",
              "    }\n",
              "\n",
              "    [theme=dark] .colab-df-convert:hover {\n",
              "      background-color: #434B5C;\n",
              "      box-shadow: 0px 1px 3px 1px rgba(0, 0, 0, 0.15);\n",
              "      filter: drop-shadow(0px 1px 2px rgba(0, 0, 0, 0.3));\n",
              "      fill: #FFFFFF;\n",
              "    }\n",
              "  </style>\n",
              "\n",
              "      <script>\n",
              "        const buttonEl =\n",
              "          document.querySelector('#df-97671e10-da1c-4e81-9fc6-d82d2d76edbe button.colab-df-convert');\n",
              "        buttonEl.style.display =\n",
              "          google.colab.kernel.accessAllowed ? 'block' : 'none';\n",
              "\n",
              "        async function convertToInteractive(key) {\n",
              "          const element = document.querySelector('#df-97671e10-da1c-4e81-9fc6-d82d2d76edbe');\n",
              "          const dataTable =\n",
              "            await google.colab.kernel.invokeFunction('convertToInteractive',\n",
              "                                                     [key], {});\n",
              "          if (!dataTable) return;\n",
              "\n",
              "          const docLinkHtml = 'Like what you see? Visit the ' +\n",
              "            '<a target=\"_blank\" href=https://colab.research.google.com/notebooks/data_table.ipynb>data table notebook</a>'\n",
              "            + ' to learn more about interactive tables.';\n",
              "          element.innerHTML = '';\n",
              "          dataTable['output_type'] = 'display_data';\n",
              "          await google.colab.output.renderOutput(dataTable, element);\n",
              "          const docLink = document.createElement('div');\n",
              "          docLink.innerHTML = docLinkHtml;\n",
              "          element.appendChild(docLink);\n",
              "        }\n",
              "      </script>\n",
              "    </div>\n",
              "  </div>\n",
              "  "
            ],
            "text/plain": [
              "       Drug name  drug_id\n",
              "0      Ritonavir  DB00503\n",
              "1    Chloroquine  DB00608\n",
              "2      Darunavir  DB01264\n",
              "3      Lopinavir  DB01601\n",
              "4    Galidesivir  DB11676\n",
              "..           ...      ...\n",
              "63  Fostamatinib  DB12010\n",
              "64    Sotrovimab  DB16355\n",
              "65        MM3122  DB16737\n",
              "66    Cilgavimab  DB16393\n",
              "67   Tixagevimab  DB16394\n",
              "\n",
              "[68 rows x 2 columns]"
            ]
          },
          "execution_count": 5,
          "metadata": {},
          "output_type": "execute_result"
        }
      ],
      "source": [
        "ass = pd.read_csv(\"my_repodb.txt\")\n",
        "ass.set_index(\"Unnamed: 0\", inplace=True)\n",
        "disgenet = pd.read_csv(\"Gen-Dis-association-Disgenet-2022 - curated_gene_disease_associations CORONA VIRUS INFECTION.csv\")\n",
        "\n",
        "# making the drug and disease lists\n",
        "my_disease_list = list(set(ass.ind_id))\n",
        "my_disease_list.append(\"C0206750\")\n",
        "my_drug_list = list(set(ass.drug_id))\n",
        "drugs=list(set(ass.drug_id))\n",
        "disgenet = disgenet.loc[disgenet['diseaseId'].isin(my_disease_list)]\n",
        "my_disease_list = list(set(disgenet.diseaseId))\n",
        "ass = ass.loc[ass['ind_id'].isin(my_disease_list)]\n",
        "my_drug_list = list(set(ass.drug_id))\n",
        "\n",
        "\n",
        "covid_drugs= pd.read_csv(\"Covid-19 drugs from drugbank.csv\")\n",
        "covid_drugs"
      ]
    },
    {
      "cell_type": "code",
      "execution_count": 6,
      "metadata": {
        "id": "hGMjEupafIN6"
      },
      "outputs": [],
      "source": [
        "# Saxagliptin DB06335\n",
        "# Vildagliptin DB04876\n",
        "# Linagliptin DB08882\n",
        "# Sitagliptin DB01261\n",
        "# Alogliptin DB06203\n",
        "\n",
        "gliptins=['DB06335', 'DB04876','DB08882','DB01261','DB06203' ]"
      ]
    },
    {
      "cell_type": "code",
      "execution_count": 7,
      "metadata": {
        "colab": {
          "base_uri": "https://localhost:8080/"
        },
        "id": "2P47MfmEqo44",
        "outputId": "483d022b-8127-4955-f1a6-a81ca6ddf771"
      },
      "outputs": [
        {
          "name": "stdout",
          "output_type": "stream",
          "text": [
            "7\n"
          ]
        }
      ],
      "source": [
        "i=0\n",
        "my_covid_drug = []\n",
        "for d in covid_drugs.drug_id:\n",
        "  if d in my_drug_list:\n",
        "    my_covid_drug.append(d)\n",
        "    i+=1\n",
        "print(i)\n",
        "\n"
      ]
    },
    {
      "cell_type": "code",
      "execution_count": 8,
      "metadata": {
        "id": "xm8q7VkYrf7S"
      },
      "outputs": [],
      "source": [
        "has = pd.read_csv(\"my_repodb.txt\") # Positive data: Known Drug-Disease associations\n",
        "has.set_index(\"Unnamed: 0\", inplace=True)\n",
        "has = has.drop(['drug_name', 'ind_name','NCT','status', 'phase',\n",
        "       'DetailedStatus'], axis=1)\n",
        "has = has.loc[has['ind_id'].isin(my_disease_list)]\n",
        "\n",
        "\n",
        "hasnt = pd.read_csv(\"my_only_negatives.txt\") # Negative data: Unknown Drug-Disease associations when disease is adverse drug reaction\n",
        "hasnt.set_index(\"Unnamed: 0\", inplace=True)\n",
        "hasnt = hasnt.rename(columns={\"Not_indicated_for\":\"ind_id\", \"Drug_id\": \"drug_id\"})\n",
        "hasnt = hasnt.loc[hasnt['ind_id'].isin(my_disease_list)]\n"
      ]
    },
    {
      "cell_type": "code",
      "execution_count": 9,
      "metadata": {
        "id": "4HZHiP7Qr1GQ"
      },
      "outputs": [],
      "source": [
        "\n",
        "\n",
        "# making the relation of diseases: has_geneid, has_class, has_semantic, has_type\n",
        "\n",
        "C=[]\n",
        "num1=0\n",
        "num2=0\n",
        "num3=0\n",
        "num4=0\n",
        "for idx, row in disgenet.iterrows():\n",
        "  # if row.diseaseId in my_disease_list:\n",
        "      semtype = \"_\".join(row.diseaseSemanticType.split())\n",
        "      clas = row.diseaseClass.split(\";\")\n",
        "      text1 =str(row.diseaseId)+\" has_geneid \"+str(row.geneSymbol)+\". \"\n",
        "      num1+=1\n",
        "      text2 =str(row.diseaseId)+\" has_type \"+str(row.diseaseType)+\". \"\n",
        "      num2+=1\n",
        "      text3 =str(row.diseaseId)+\" has_semantic \"+str(semtype)+\". \"\n",
        "      num3+=1\n",
        "      C.append(text1)\n",
        "      C.append(text2)\n",
        "      C.append(text3)\n",
        "      num4+=len(clas)\n",
        "      for cl in clas:\n",
        "        text =str(row.diseaseId)+\" has_class \"+str(cl)+\". \"\n",
        "        C.append(text)\n",
        "\n",
        "Disease=\"\"\n",
        "for c in C:\n",
        "  Disease= Disease+c\n"
      ]
    },
    {
      "attachments": {},
      "cell_type": "markdown",
      "metadata": {
        "id": "cWlM-xeNr1GS"
      },
      "source": [
        "making the drug relations: has_sideeffect, has_target, has_domain, has_atccode, has_chemicalstructure"
      ]
    },
    {
      "cell_type": "code",
      "execution_count": 10,
      "metadata": {
        "id": "LZ_2hzphr1GT"
      },
      "outputs": [],
      "source": [
        "# has_target relation. data is collected using DrugBank\n",
        "T=[]\n",
        "target= pd.read_csv(\"my_target.txt\")\n",
        "target.set_index(\"Unnamed: 0\", inplace=True)\n",
        "for idx, row in target.iterrows():\n",
        "  for c in target.columns:\n",
        "    if row[c] ==1 :\n",
        "      text =str(idx)+\" has_target \"+str(c)+\". \"\n",
        "      T.append(text)\n",
        "target1=\"\"\n",
        "for c in T:\n",
        "  target1= target1+c"
      ]
    },
    {
      "cell_type": "code",
      "execution_count": 11,
      "metadata": {
        "id": "zQ5LceZhr1GU"
      },
      "outputs": [],
      "source": [
        "# has_domain relation. data is collected using UniProt\n",
        "D=[]\n",
        "dom= pd.read_csv(\"my_domain.txt\")\n",
        "dom.set_index(\"Unnamed: 0\", inplace=True)\n",
        "for idx, row in dom.iterrows():\n",
        "  for c in dom.columns:\n",
        "    if row[c] ==1 :\n",
        "      text =str(idx)+\" has_domain \"+str(c)+\". \"\n",
        "      D.append(text)\n",
        "\n",
        "domain=\"\"\n",
        "for c in D:\n",
        "  domain= domain+c\n"
      ]
    },
    {
      "cell_type": "code",
      "execution_count": 12,
      "metadata": {
        "id": "gzSMNVGmr1GU"
      },
      "outputs": [],
      "source": [
        "# has_chemical relation. data is collected using Pubchem\n",
        "C=[]\n",
        "finger= pd.read_csv(\"my_finger.txt\")\n",
        "finger.set_index(\"Unnamed: 0\", inplace=True)\n",
        "for idx, row in finger.iterrows():\n",
        "  for c in finger.columns:\n",
        "    if row[c] ==1 :\n",
        "      text =str(idx)+\" has_chemical S\"+str(c)+\". \"\n",
        "      C.append(text)\n",
        "chemical=\"\"\n",
        "for c in C:\n",
        "  chemical= chemical+c"
      ]
    },
    {
      "cell_type": "code",
      "execution_count": 13,
      "metadata": {
        "id": "2wjHaae0r1GV"
      },
      "outputs": [],
      "source": [
        "# has_atc_code relation. data is collected using Sider4.1\n",
        "\n",
        "ATC=[]\n",
        "atc= pd.read_csv(\"my_ATC.txt\")\n",
        "atc.set_index(\"Unnamed: 0\", inplace=True)\n",
        "for idx, row in atc.iterrows():\n",
        "  for c in atc.columns:\n",
        "    if row[c] == 1 and (len(c)==4 or len(c)==1 or len(c)==3 or len(c)==5): # we consider first 4 level of ATC code\n",
        "      text =str(idx)+\" has_atc_code \"+str(c)+\". \"\n",
        "      ATC.append(text)\n",
        "atccode=\"\"\n",
        "for c in ATC:\n",
        "  atccode= atccode+c"
      ]
    },
    {
      "cell_type": "code",
      "execution_count": 14,
      "metadata": {
        "id": "6cFK6ZCdr1GV"
      },
      "outputs": [],
      "source": [
        "# has_sideeffect relation. Date is collected using Sider4.1\n",
        "S=[]\n",
        "side= pd.read_csv(\"my_sideeffect.txt\")\n",
        "side.set_index(\"Unnamed: 0\", inplace=True)\n",
        "for idx, row in side.iterrows():\n",
        "  for c in side.columns:\n",
        "    if row[c] ==1 :\n",
        "      text =str(idx)+\" has_sideeffect \"+str(c)+\". \"\n",
        "      S.append(text)"
      ]
    },
    {
      "cell_type": "code",
      "execution_count": 15,
      "metadata": {
        "id": "NZ9m2p_KF6aA"
      },
      "outputs": [],
      "source": [
        "PPI = pd.read_csv(\"PPI-extracted scores more than 80-cleaned.txt\")\n",
        "p=[]\n",
        "for idx, row in PPI.iterrows():\n",
        "  if row.P1 in target.columns and row.P2 in target.columns:\n",
        "    text = str(row.P1)+' has_ppi_interaction '+ str(row.P2)+'. '\n",
        "    p.append(text)\n",
        "ppi=\"\"\n",
        "for c in p:\n",
        "  ppi= ppi+c"
      ]
    },
    {
      "cell_type": "code",
      "execution_count": 16,
      "metadata": {
        "id": "8aFIt57VF6aB"
      },
      "outputs": [],
      "source": [
        "gensymbol = set(list(disgenet.geneSymbol))\n",
        "GRN = pd.read_csv(\"GRN-extracted scores more than 90-cleaned.txt\")\n",
        "G=[]\n",
        "for idx, row in GRN.iterrows():\n",
        "  if row.G1 in gensymbol and row.G2 in gensymbol:\n",
        "    text = str(row.G1)+' has_GRN_interaction '+ str(row.G2)+'. '\n",
        "    G.append(text)\n",
        "grn=\"\"\n",
        "for c in G:\n",
        "  grn= grn+c"
      ]
    },
    {
      "cell_type": "code",
      "execution_count": 17,
      "metadata": {
        "id": "hROCOLqxGCwc"
      },
      "outputs": [],
      "source": [
        "# target-domain relation. Date is collected using target_domain_association\n",
        "TD=[]\n",
        "td= pd.read_csv(\"target_domain_association.txt\")\n",
        "td\n",
        "td.set_index(\"Unnamed: 0\", inplace=True)\n",
        "td\n",
        "for idx, row in td.iterrows():\n",
        "  if idx in target.columns:\n",
        "    for c in td.columns:\n",
        "      if row[c] ==1 and c in dom.columns:\n",
        "        text =str(idx)+\" has_tardom \"+str(c)+\". \"\n",
        "        TD.append(text)\n",
        "\n",
        "tardom=\"\"\n",
        "for c in TD:\n",
        "  tardom= tardom+c"
      ]
    },
    {
      "cell_type": "code",
      "execution_count": 18,
      "metadata": {
        "id": "Dwu4OpsGGCwc"
      },
      "outputs": [],
      "source": [
        "# target-gene relation. Date is collected using DisGenet\n",
        "genid={}\n",
        "for idx, row in disgenet.iterrows():\n",
        "  # print(row)\n",
        "  if row.geneId in genid.keys():\n",
        "    continue\n",
        "  else:\n",
        "    genid[row.geneId]=row.geneSymbol\n",
        "TG=[]\n",
        "tg= pd.read_csv(\"Uniprot-2-GeneID.csv\")\n",
        "tg\n",
        "\n",
        "for idx, row in tg.iterrows():\n",
        "  if row.UniProtKB in target.columns:\n",
        "    if row.GENEID in genid.keys():\n",
        "      text =str(row.UniProtKB)+\" has_targen \"+str(row.GENEID)+\". \"\n",
        "      TG.append(text)\n",
        "\n",
        "targene=\"\"\n",
        "for c in TG:\n",
        "  targene= targene+c"
      ]
    },
    {
      "cell_type": "code",
      "execution_count": 19,
      "metadata": {
        "id": "kMGpynGCsGQP"
      },
      "outputs": [],
      "source": [
        "A=[]\n",
        "for ix, row in ass.iterrows():\n",
        "  text = str(row.drug_id)+\" has_indicated \"+str(row.ind_id)+\". \"\n",
        "  A.append(text)\n",
        "\n",
        "ass=\"\" # making the new associations for training the models\n",
        "for c in A:\n",
        "  ass= ass+c\n",
        "\n",
        "side=\"\"\n",
        "for c in S:\n",
        "  side= side+c\n",
        "\n",
        "I = hasnt"
      ]
    },
    {
      "attachments": {},
      "cell_type": "markdown",
      "metadata": {
        "id": "60eP_PiC7Dze"
      },
      "source": [
        "## Word2Vec"
      ]
    },
    {
      "cell_type": "code",
      "execution_count": 20,
      "metadata": {
        "id": "M0aV8hRG689i"
      },
      "outputs": [],
      "source": [
        "\n",
        "data=[]\n",
        "sets=[chemical, target1, side, domain, atccode,ppi, grn, tardom, targene, ass, Disease]\n",
        "\n",
        "for s in sets:\n",
        "  for i in sent_tokenize(s):\n",
        "      temp = []\n",
        "      # tokenize the sentence into words\n",
        "      for j in word_tokenize(i):\n",
        "          temp.append(j.lower())\n",
        "      data.append(temp)"
      ]
    },
    {
      "cell_type": "code",
      "execution_count": 21,
      "metadata": {
        "colab": {
          "base_uri": "https://localhost:8080/"
        },
        "id": "LLug2LnG689k",
        "outputId": "c08f8c73-0297-43ed-f4a3-8bcf4fd85029"
      },
      "outputs": [
        {
          "data": {
            "text/plain": [
              "12825"
            ]
          },
          "execution_count": 21,
          "metadata": {},
          "output_type": "execute_result"
        }
      ],
      "source": [
        "word_freq = defaultdict(int)\n",
        "for sent in data:\n",
        "    for i in sent:\n",
        "        word_freq[i] += 1\n",
        "len(word_freq)"
      ]
    },
    {
      "cell_type": "code",
      "execution_count": 22,
      "metadata": {
        "colab": {
          "base_uri": "https://localhost:8080/"
        },
        "id": "Ufx5RF_F689m",
        "outputId": "10b09418-290c-4b32-b6d5-3140448c816c"
      },
      "outputs": [
        {
          "name": "stderr",
          "output_type": "stream",
          "text": [
            "WARNING:gensim.models.keyedvectors:destructive init_sims(replace=True) deprecated & no longer required for space-efficiency\n"
          ]
        }
      ],
      "source": [
        "model1 = gensim.models.Word2Vec(min_count = 1, alpha=0.001, vector_size = 1024, window = 2, epochs=100, sg=0)\n",
        "model1.build_vocab(data, progress_per=10000)\n",
        "model1.train(data, total_examples=model1.corpus_count, epochs=500, report_delay=1)\n",
        "model1.init_sims(replace=True)"
      ]
    },
    {
      "attachments": {},
      "cell_type": "markdown",
      "metadata": {
        "id": "UMbbKYXEx8jG"
      },
      "source": [
        "## Test on COVID-19"
      ]
    },
    {
      "cell_type": "code",
      "execution_count": 23,
      "metadata": {
        "id": "sN3a1-Nwx_v6"
      },
      "outputs": [],
      "source": [
        "frames = [has, hasnt]\n",
        "\n",
        "f = pd.concat(frames)\n",
        "X=[]\n",
        "for idx, row in f.iterrows():\n",
        "  X.append(np.concatenate((model1.wv[(row.drug_id).lower()], model1.wv[(row.ind_id).lower()]), axis=None))\n",
        "y=np.zeros((len(X), ))\n",
        "\n",
        "for i in range(has.shape[0]):\n",
        "  y[i]=1\n"
      ]
    },
    {
      "cell_type": "code",
      "execution_count": 24,
      "metadata": {
        "colab": {
          "base_uri": "https://localhost:8080/"
        },
        "id": "ikyw8bqRx_v7",
        "outputId": "83b28f1f-c97d-49b7-a970-20df7fc79c69"
      },
      "outputs": [
        {
          "name": "stdout",
          "output_type": "stream",
          "text": [
            "3735\n",
            "3538\n"
          ]
        }
      ],
      "source": [
        "from imblearn.over_sampling import SMOTE, RandomOverSampler\n",
        "from imblearn.under_sampling import RandomUnderSampler\n",
        "over = SMOTE(sampling_strategy=0.9)\n",
        "# over = RandomOverSampler(0.9)\n",
        "under = RandomUnderSampler()\n",
        "X, y = over.fit_resample(X,y)\n",
        "print(len(X))\n",
        "X,y = under.fit_resample(X,y)\n",
        "print(len(X))"
      ]
    },
    {
      "cell_type": "code",
      "execution_count": 30,
      "metadata": {
        "colab": {
          "base_uri": "https://localhost:8080/",
          "height": 1000
        },
        "id": "_0J4KEulx_v8",
        "outputId": "0a780092-4c84-4484-dd4c-aa02cc7f982a"
      },
      "outputs": [
        {
          "name": "stdout",
          "output_type": "stream",
          "text": [
            "Epoch 1/100\n",
            "83/83 [==============================] - 4s 13ms/step - loss: 0.6741 - accuracy: 0.7158 - val_loss: 0.6281 - val_accuracy: 0.7887 - lr: 5.0000e-05\n",
            "Epoch 2/100\n",
            "83/83 [==============================] - 1s 10ms/step - loss: 0.5633 - accuracy: 0.7976 - val_loss: 0.4841 - val_accuracy: 0.8158 - lr: 5.0000e-05\n",
            "Epoch 3/100\n",
            "83/83 [==============================] - 1s 10ms/step - loss: 0.4408 - accuracy: 0.8198 - val_loss: 0.4341 - val_accuracy: 0.8249 - lr: 5.0000e-05\n",
            "Epoch 4/100\n",
            "83/83 [==============================] - 1s 9ms/step - loss: 0.4015 - accuracy: 0.8277 - val_loss: 0.4161 - val_accuracy: 0.8249 - lr: 5.0000e-05\n",
            "Epoch 5/100\n",
            "83/83 [==============================] - 1s 10ms/step - loss: 0.3916 - accuracy: 0.8292 - val_loss: 0.4111 - val_accuracy: 0.8260 - lr: 5.0000e-05\n",
            "Epoch 6/100\n",
            "83/83 [==============================] - 1s 6ms/step - loss: 0.3787 - accuracy: 0.8391 - val_loss: 0.4033 - val_accuracy: 0.8203 - lr: 5.0000e-05\n",
            "Epoch 7/100\n",
            "83/83 [==============================] - 1s 6ms/step - loss: 0.3810 - accuracy: 0.8387 - val_loss: 0.4014 - val_accuracy: 0.8249 - lr: 5.0000e-05\n",
            "Epoch 8/100\n",
            "83/83 [==============================] - 1s 7ms/step - loss: 0.3726 - accuracy: 0.8458 - val_loss: 0.3923 - val_accuracy: 0.8305 - lr: 5.0000e-05\n",
            "Epoch 9/100\n",
            "83/83 [==============================] - 1s 6ms/step - loss: 0.3573 - accuracy: 0.8507 - val_loss: 0.4003 - val_accuracy: 0.8203 - lr: 5.0000e-05\n",
            "Epoch 10/100\n",
            "83/83 [==============================] - 1s 6ms/step - loss: 0.3621 - accuracy: 0.8462 - val_loss: 0.3887 - val_accuracy: 0.8215 - lr: 5.0000e-05\n",
            "Epoch 11/100\n",
            "82/83 [============================>.] - ETA: 0s - loss: 0.3600 - accuracy: 0.8468\n",
            "Epoch 11: ReduceLROnPlateau reducing learning rate to 4.999999873689376e-06.\n",
            "83/83 [==============================] - 1s 6ms/step - loss: 0.3617 - accuracy: 0.8466 - val_loss: 0.3870 - val_accuracy: 0.8294 - lr: 5.0000e-05\n",
            "Epoch 12/100\n",
            "83/83 [==============================] - 1s 7ms/step - loss: 0.3527 - accuracy: 0.8458 - val_loss: 0.3836 - val_accuracy: 0.8384 - lr: 5.0000e-06\n",
            "Epoch 13/100\n",
            "83/83 [==============================] - 1s 6ms/step - loss: 0.3558 - accuracy: 0.8440 - val_loss: 0.3833 - val_accuracy: 0.8373 - lr: 5.0000e-06\n",
            "Epoch 14/100\n",
            "83/83 [==============================] - 1s 6ms/step - loss: 0.3479 - accuracy: 0.8560 - val_loss: 0.3826 - val_accuracy: 0.8384 - lr: 5.0000e-06\n",
            "Epoch 15/100\n",
            "73/83 [=========================>....] - ETA: 0s - loss: 0.3570 - accuracy: 0.8485\n",
            "Epoch 15: ReduceLROnPlateau reducing learning rate to 4.999999873689376e-07.\n",
            "83/83 [==============================] - 1s 6ms/step - loss: 0.3516 - accuracy: 0.8522 - val_loss: 0.3827 - val_accuracy: 0.8362 - lr: 5.0000e-06\n",
            "Epoch 16/100\n",
            "83/83 [==============================] - 0s 6ms/step - loss: 0.3463 - accuracy: 0.8560 - val_loss: 0.3826 - val_accuracy: 0.8373 - lr: 5.0000e-07\n",
            "Epoch 17/100\n",
            "83/83 [==============================] - 1s 6ms/step - loss: 0.3533 - accuracy: 0.8530 - val_loss: 0.3825 - val_accuracy: 0.8373 - lr: 5.0000e-07\n",
            "Epoch 18/100\n",
            "83/83 [==============================] - ETA: 0s - loss: 0.3500 - accuracy: 0.8477\n",
            "Epoch 18: ReduceLROnPlateau reducing learning rate to 4.999999987376214e-08.\n",
            "83/83 [==============================] - 1s 6ms/step - loss: 0.3500 - accuracy: 0.8477 - val_loss: 0.3824 - val_accuracy: 0.8373 - lr: 5.0000e-07\n",
            "Epoch 19/100\n",
            "83/83 [==============================] - 0s 6ms/step - loss: 0.3497 - accuracy: 0.8500 - val_loss: 0.3824 - val_accuracy: 0.8384 - lr: 5.0000e-08\n",
            "Epoch 20/100\n",
            "83/83 [==============================] - 1s 7ms/step - loss: 0.3573 - accuracy: 0.8530 - val_loss: 0.3824 - val_accuracy: 0.8384 - lr: 5.0000e-08\n",
            "Epoch 21/100\n",
            "76/83 [==========================>...] - ETA: 0s - loss: 0.3515 - accuracy: 0.8528Restoring model weights from the end of the best epoch: 12.\n",
            "\n",
            "Epoch 21: ReduceLROnPlateau reducing learning rate to 5.000000058430488e-09.\n",
            "83/83 [==============================] - 1s 6ms/step - loss: 0.3535 - accuracy: 0.8507 - val_loss: 0.3824 - val_accuracy: 0.8384 - lr: 5.0000e-08\n",
            "Epoch 21: early stopping\n"
          ]
        },
        {
          "data": {
            "image/png": "[encoded data removed]",
            "text/plain": [
              "<Figure size 640x480 with 1 Axes>"
            ]
          },
          "metadata": {},
          "output_type": "display_data"
        },
        {
          "data": {
            "image/png": "[encoded data removed]",
            "text/plain": [
              "<Figure size 640x480 with 1 Axes>"
            ]
          },
          "metadata": {},
          "output_type": "display_data"
        }
      ],
      "source": [
        "\n",
        "\n",
        "# Define the callbacks\n",
        "early_stopping = EarlyStopping(monitor='val_accuracy', patience=9, verbose=1, restore_best_weights=True)\n",
        "reduce_lr = ReduceLROnPlateau(monitor='val_accuracy', factor=0.1, patience=3, verbose=1)\n",
        "model_checkpoint = ModelCheckpoint('best_weights.h5', monitor='val_accuracy', save_best_only=True)\n",
        "\n",
        "input_shape1 = (1024,)\n",
        "input_shape2 = (1024,)\n",
        "\n",
        "# Define the inputs for the two branches of the network\n",
        "input1 = Input(shape=input_shape1)\n",
        "input2 = Input(shape=input_shape2)\n",
        "\n",
        "# Define the layers for the first branch of the network\n",
        "x1 = Dense(512, activation='relu')(input1)\n",
        "x1 = Dropout(rate=0.2)(x1)\n",
        "x1 = Dense(256, activation='relu')(x1)\n",
        "x1 = Dropout(rate=0.2)(x1)\n",
        "x1 = Dense(128, activation='relu')(x1)\n",
        "x1 = Dropout(rate=0.2)(x1)\n",
        "x1 = Dense(64, activation='relu')(x1)\n",
        "output1 = x1\n",
        "modeldrug = Model(input1, output1)\n",
        "modeldrug.compile(loss='kl-divergence', optimizer=SGD(learning_rate=0.0005), metrics=['accuracy'])\n",
        "# Define the layers for the second branch of the network\n",
        "x2 = Dense(512, activation='relu')(input2)\n",
        "x2 = Dropout(rate=0.2)(x2)\n",
        "x2 = Dense(256, activation='relu')(x2)\n",
        "x2 = Dropout(rate=0.2)(x2)\n",
        "x2 = Dense(128, activation='relu')(x2)\n",
        "x2 = Dropout(rate=0.2)(x2)\n",
        "x2 = Dense(64, activation='relu')(x2)\n",
        "output2 = x2\n",
        "modeldisease = Model(input2, output2)\n",
        "modeldisease.compile(loss='kl-divergence', optimizer=SGD(learning_rate=0.0005), metrics=['accuracy'])\n",
        "# Subtract the embeddings from the two branches\n",
        "diff = Subtract()([output1, output2])\n",
        "diff = Lambda(lambda d: abs(d))(diff)\n",
        "# diff = Dropout(0.2)(diff)\n",
        "# Concatenate the absolute difference with the embeddings\n",
        "# concat = concatenate([output1, output2])\n",
        "concat = Dense(32, activation= 'relu')(diff)\n",
        "# concat = Dropout(rate=0.2)(concat)\n",
        "\n",
        "\n",
        "# Define the output layer\n",
        "output = Dense(1, activation='sigmoid')(concat)\n",
        "\n",
        "# Define the model\n",
        "simmodel = Model(inputs=[input1, input2], outputs=output)\n",
        "\n",
        "# Define the optimizer and compile the model\n",
        "optimizer = Adam(learning_rate=0.00005)\n",
        "simmodel.compile(loss='binary_crossentropy', optimizer=optimizer, metrics=['accuracy'])\n",
        "\n",
        "# # Define the class weights\n",
        "class_weights = {0: 1, 1: 1966/748 } # inverse frequency weighting\n",
        "\n",
        "\n",
        "# Train the model on your data with the defined callbacks\n",
        "\n",
        "X = np.array(X)\n",
        "y = np.array(y)\n",
        "\n",
        "x_train, x_val, y_train, y_val = train_test_split(X, y)\n",
        "\n",
        "l = np.array(x_train[:, :1024])\n",
        "r = np.array(x_train[:, 1024:])\n",
        "\n",
        "\n",
        "l_val = np.array(x_val[:, :1024])\n",
        "r_val = np.array(x_val[:, 1024:])\n",
        "\n",
        "history = simmodel.fit([l, r], y_train, batch_size=32, epochs=100,validation_data=([l_val, r_val], y_val), callbacks=[early_stopping, reduce_lr, model_checkpoint])\n",
        "\n",
        "# history = simmodel.fit([l, r], y_train, batch_size= 32, epochs= 300, class_weight=class_weights, validation_data=([l_val, r_val],y_val)\n",
        "                  # ,callbacks=[callback]\n",
        "                  # )\n",
        "model_history(history)\n",
        "\n",
        "\n"
      ]
    },
    {
      "attachments": {},
      "cell_type": "markdown",
      "metadata": {
        "id": "EmU8BBJAx_v9"
      },
      "source": [
        "Now, we calculate the association score between our disease and all drugs to find the first 10 reltaed drugs to them"
      ]
    },
    {
      "cell_type": "code",
      "execution_count": 31,
      "metadata": {
        "colab": {
          "base_uri": "https://localhost:8080/"
        },
        "id": "U8pfy6_kx_v9",
        "outputId": "aeb6e2bb-d9de-476a-b3f3-6f73c90d2e3e"
      },
      "outputs": [
        {
          "name": "stdout",
          "output_type": "stream",
          "text": [
            "13/13 [==============================] - 0s 3ms/step\n"
          ]
        }
      ],
      "source": [
        "covid_disease=['C0206750']\n",
        "xcovid=[]\n",
        "SCOR_PD=pd.DataFrame(columns=[\"Dis_id\", \"Drug_id\", \"Score\"]) # To save association score\n",
        "for dis in covid_disease:\n",
        "  for drug in my_drug_list:\n",
        "    xcovid.append(np.concatenate((model1.wv[(drug).lower()], model1.wv[(dis).lower()]), axis=None))\n",
        "\n",
        "xcovid= np.array(xcovid)\n",
        "lcovid = np.array(xcovid[:, :1024])\n",
        "rcovid = np.array(xcovid[:, 1024:])\n",
        "i=0\n",
        "s = simmodel.predict([lcovid, rcovid])\n",
        "for dis in covid_disease:\n",
        "  for drug in my_drug_list:\n",
        "    df2 = {\"Dis_id\":dis, \"Drug_id\":drug, \"Score\":s[i]}\n",
        "    i+=1\n",
        "    SCOR_PD = SCOR_PD.append(df2, ignore_index = True)\n"
      ]
    },
    {
      "cell_type": "code",
      "execution_count": 32,
      "metadata": {
        "colab": {
          "base_uri": "https://localhost:8080/",
          "height": 419
        },
        "id": "LscCtcoyyxtl",
        "outputId": "bb9539b6-23bb-4aed-ced8-dccab852d726"
      },
      "outputs": [
        {
          "data": {
            "text/html": [
              "\n",
              "  <div id=\"df-df120ff0-dff0-4938-acf3-4d6d3aa92b7b\">\n",
              "    <div class=\"colab-df-container\">\n",
              "      <div>\n",
              "<style scoped>\n",
              "    .dataframe tbody tr th:only-of-type {\n",
              "        vertical-align: middle;\n",
              "    }\n",
              "\n",
              "    .dataframe tbody tr th {\n",
              "        vertical-align: top;\n",
              "    }\n",
              "\n",
              "    .dataframe thead th {\n",
              "        text-align: right;\n",
              "    }\n",
              "</style>\n",
              "<table border=\"1\" class=\"dataframe\">\n",
              "  <thead>\n",
              "    <tr style=\"text-align: right;\">\n",
              "      <th></th>\n",
              "      <th>Dis_id</th>\n",
              "      <th>Drug_id</th>\n",
              "      <th>Score</th>\n",
              "    </tr>\n",
              "  </thead>\n",
              "  <tbody>\n",
              "    <tr>\n",
              "      <th>97</th>\n",
              "      <td>C0206750</td>\n",
              "      <td>DB00240</td>\n",
              "      <td>[0.9820702]</td>\n",
              "    </tr>\n",
              "    <tr>\n",
              "      <th>0</th>\n",
              "      <td>C0206750</td>\n",
              "      <td>DB01047</td>\n",
              "      <td>[0.9820264]</td>\n",
              "    </tr>\n",
              "    <tr>\n",
              "      <th>116</th>\n",
              "      <td>C0206750</td>\n",
              "      <td>DB00838</td>\n",
              "      <td>[0.98114395]</td>\n",
              "    </tr>\n",
              "    <tr>\n",
              "      <th>7</th>\n",
              "      <td>C0206750</td>\n",
              "      <td>DB02703</td>\n",
              "      <td>[0.98110193]</td>\n",
              "    </tr>\n",
              "    <tr>\n",
              "      <th>271</th>\n",
              "      <td>C0206750</td>\n",
              "      <td>DB01130</td>\n",
              "      <td>[0.98105294]</td>\n",
              "    </tr>\n",
              "    <tr>\n",
              "      <th>...</th>\n",
              "      <td>...</td>\n",
              "      <td>...</td>\n",
              "      <td>...</td>\n",
              "    </tr>\n",
              "    <tr>\n",
              "      <th>298</th>\n",
              "      <td>C0206750</td>\n",
              "      <td>DB01175</td>\n",
              "      <td>[0.4518802]</td>\n",
              "    </tr>\n",
              "    <tr>\n",
              "      <th>226</th>\n",
              "      <td>C0206750</td>\n",
              "      <td>DB00268</td>\n",
              "      <td>[0.4477359]</td>\n",
              "    </tr>\n",
              "    <tr>\n",
              "      <th>19</th>\n",
              "      <td>C0206750</td>\n",
              "      <td>DB00215</td>\n",
              "      <td>[0.43762496]</td>\n",
              "    </tr>\n",
              "    <tr>\n",
              "      <th>366</th>\n",
              "      <td>C0206750</td>\n",
              "      <td>DB00230</td>\n",
              "      <td>[0.43102533]</td>\n",
              "    </tr>\n",
              "    <tr>\n",
              "      <th>60</th>\n",
              "      <td>C0206750</td>\n",
              "      <td>DB00413</td>\n",
              "      <td>[0.43032923]</td>\n",
              "    </tr>\n",
              "  </tbody>\n",
              "</table>\n",
              "<p>410 rows × 3 columns</p>\n",
              "</div>\n",
              "      <button class=\"colab-df-convert\" onclick=\"convertToInteractive('df-df120ff0-dff0-4938-acf3-4d6d3aa92b7b')\"\n",
              "              title=\"Convert this dataframe to an interactive table.\"\n",
              "              style=\"display:none;\">\n",
              "        \n",
              "  <svg xmlns=\"http://www.w3.org/2000/svg\" height=\"24px\"viewBox=\"0 0 24 24\"\n",
              "       width=\"24px\">\n",
              "    <path d=\"M0 0h24v24H0V0z\" fill=\"none\"/>\n",
              "    <path d=\"M18.56 5.44l.94 2.06.94-2.06 2.06-.94-2.06-.94-.94-2.06-.94 2.06-2.06.94zm-11 1L8.5 8.5l.94-2.06 2.06-.94-2.06-.94L8.5 2.5l-.94 2.06-2.06.94zm10 10l.94 2.06.94-2.06 2.06-.94-2.06-.94-.94-2.06-.94 2.06-2.06.94z\"/><path d=\"M17.41 7.96l-1.37-1.37c-.4-.4-.92-.59-1.43-.59-.52 0-1.04.2-1.43.59L10.3 9.45l-7.72 7.72c-.78.78-.78 2.05 0 2.83L4 21.41c.39.39.9.59 1.41.59.51 0 1.02-.2 1.41-.59l7.78-7.78 2.81-2.81c.8-.78.8-2.07 0-2.86zM5.41 20L4 18.59l7.72-7.72 1.47 1.35L5.41 20z\"/>\n",
              "  </svg>\n",
              "      </button>\n",
              "      \n",
              "  <style>\n",
              "    .colab-df-container {\n",
              "      display:flex;\n",
              "      flex-wrap:wrap;\n",
              "      gap: 12px;\n",
              "    }\n",
              "\n",
              "    .colab-df-convert {\n",
              "      background-color: #E8F0FE;\n",
              "      border: none;\n",
              "      border-radius: 50%;\n",
              "      cursor: pointer;\n",
              "      display: none;\n",
              "      fill: #1967D2;\n",
              "      height: 32px;\n",
              "      padding: 0 0 0 0;\n",
              "      width: 32px;\n",
              "    }\n",
              "\n",
              "    .colab-df-convert:hover {\n",
              "      background-color: #E2EBFA;\n",
              "      box-shadow: 0px 1px 2px rgba(60, 64, 67, 0.3), 0px 1px 3px 1px rgba(60, 64, 67, 0.15);\n",
              "      fill: #174EA6;\n",
              "    }\n",
              "\n",
              "    [theme=dark] .colab-df-convert {\n",
              "      background-color: #3B4455;\n",
              "      fill: #D2E3FC;\n",
              "    }\n",
              "\n",
              "    [theme=dark] .colab-df-convert:hover {\n",
              "      background-color: #434B5C;\n",
              "      box-shadow: 0px 1px 3px 1px rgba(0, 0, 0, 0.15);\n",
              "      filter: drop-shadow(0px 1px 2px rgba(0, 0, 0, 0.3));\n",
              "      fill: #FFFFFF;\n",
              "    }\n",
              "  </style>\n",
              "\n",
              "      <script>\n",
              "        const buttonEl =\n",
              "          document.querySelector('#df-df120ff0-dff0-4938-acf3-4d6d3aa92b7b button.colab-df-convert');\n",
              "        buttonEl.style.display =\n",
              "          google.colab.kernel.accessAllowed ? 'block' : 'none';\n",
              "\n",
              "        async function convertToInteractive(key) {\n",
              "          const element = document.querySelector('#df-df120ff0-dff0-4938-acf3-4d6d3aa92b7b');\n",
              "          const dataTable =\n",
              "            await google.colab.kernel.invokeFunction('convertToInteractive',\n",
              "                                                     [key], {});\n",
              "          if (!dataTable) return;\n",
              "\n",
              "          const docLinkHtml = 'Like what you see? Visit the ' +\n",
              "            '<a target=\"_blank\" href=https://colab.research.google.com/notebooks/data_table.ipynb>data table notebook</a>'\n",
              "            + ' to learn more about interactive tables.';\n",
              "          element.innerHTML = '';\n",
              "          dataTable['output_type'] = 'display_data';\n",
              "          await google.colab.output.renderOutput(dataTable, element);\n",
              "          const docLink = document.createElement('div');\n",
              "          docLink.innerHTML = docLinkHtml;\n",
              "          element.appendChild(docLink);\n",
              "        }\n",
              "      </script>\n",
              "    </div>\n",
              "  </div>\n",
              "  "
            ],
            "text/plain": [
              "       Dis_id  Drug_id         Score\n",
              "97   C0206750  DB00240   [0.9820702]\n",
              "0    C0206750  DB01047   [0.9820264]\n",
              "116  C0206750  DB00838  [0.98114395]\n",
              "7    C0206750  DB02703  [0.98110193]\n",
              "271  C0206750  DB01130  [0.98105294]\n",
              "..        ...      ...           ...\n",
              "298  C0206750  DB01175   [0.4518802]\n",
              "226  C0206750  DB00268   [0.4477359]\n",
              "19   C0206750  DB00215  [0.43762496]\n",
              "366  C0206750  DB00230  [0.43102533]\n",
              "60   C0206750  DB00413  [0.43032923]\n",
              "\n",
              "[410 rows x 3 columns]"
            ]
          },
          "execution_count": 32,
          "metadata": {},
          "output_type": "execute_result"
        }
      ],
      "source": [
        "SCOR_PD = SCOR_PD.sort_values(by='Score', ascending=False)\n",
        "SCOR_PD"
      ]
    },
    {
      "cell_type": "code",
      "execution_count": 33,
      "metadata": {
        "colab": {
          "base_uri": "https://localhost:8080/",
          "height": 266
        },
        "id": "lUc7raFCzEhw",
        "outputId": "35907667-f1c0-4d6f-fb2e-78b1590ea513"
      },
      "outputs": [
        {
          "data": {
            "text/html": [
              "\n",
              "  <div id=\"df-2f22819a-3299-4e7d-8722-42146e131117\">\n",
              "    <div class=\"colab-df-container\">\n",
              "      <div>\n",
              "<style scoped>\n",
              "    .dataframe tbody tr th:only-of-type {\n",
              "        vertical-align: middle;\n",
              "    }\n",
              "\n",
              "    .dataframe tbody tr th {\n",
              "        vertical-align: top;\n",
              "    }\n",
              "\n",
              "    .dataframe thead th {\n",
              "        text-align: right;\n",
              "    }\n",
              "</style>\n",
              "<table border=\"1\" class=\"dataframe\">\n",
              "  <thead>\n",
              "    <tr style=\"text-align: right;\">\n",
              "      <th></th>\n",
              "      <th>Dis_id</th>\n",
              "      <th>Drug_id</th>\n",
              "      <th>Score</th>\n",
              "    </tr>\n",
              "  </thead>\n",
              "  <tbody>\n",
              "    <tr>\n",
              "      <th>151</th>\n",
              "      <td>C0206750</td>\n",
              "      <td>DB01234</td>\n",
              "      <td>[0.97374773]</td>\n",
              "    </tr>\n",
              "    <tr>\n",
              "      <th>406</th>\n",
              "      <td>C0206750</td>\n",
              "      <td>DB00959</td>\n",
              "      <td>[0.9699562]</td>\n",
              "    </tr>\n",
              "    <tr>\n",
              "      <th>82</th>\n",
              "      <td>C0206750</td>\n",
              "      <td>DB01394</td>\n",
              "      <td>[0.96028805]</td>\n",
              "    </tr>\n",
              "    <tr>\n",
              "      <th>205</th>\n",
              "      <td>C0206750</td>\n",
              "      <td>DB00608</td>\n",
              "      <td>[0.955688]</td>\n",
              "    </tr>\n",
              "    <tr>\n",
              "      <th>177</th>\n",
              "      <td>C0206750</td>\n",
              "      <td>DB00207</td>\n",
              "      <td>[0.914545]</td>\n",
              "    </tr>\n",
              "    <tr>\n",
              "      <th>287</th>\n",
              "      <td>C0206750</td>\n",
              "      <td>DB08868</td>\n",
              "      <td>[0.90901476]</td>\n",
              "    </tr>\n",
              "    <tr>\n",
              "      <th>237</th>\n",
              "      <td>C0206750</td>\n",
              "      <td>DB01050</td>\n",
              "      <td>[0.86170983]</td>\n",
              "    </tr>\n",
              "  </tbody>\n",
              "</table>\n",
              "</div>\n",
              "      <button class=\"colab-df-convert\" onclick=\"convertToInteractive('df-2f22819a-3299-4e7d-8722-42146e131117')\"\n",
              "              title=\"Convert this dataframe to an interactive table.\"\n",
              "              style=\"display:none;\">\n",
              "        \n",
              "  <svg xmlns=\"http://www.w3.org/2000/svg\" height=\"24px\"viewBox=\"0 0 24 24\"\n",
              "       width=\"24px\">\n",
              "    <path d=\"M0 0h24v24H0V0z\" fill=\"none\"/>\n",
              "    <path d=\"M18.56 5.44l.94 2.06.94-2.06 2.06-.94-2.06-.94-.94-2.06-.94 2.06-2.06.94zm-11 1L8.5 8.5l.94-2.06 2.06-.94-2.06-.94L8.5 2.5l-.94 2.06-2.06.94zm10 10l.94 2.06.94-2.06 2.06-.94-2.06-.94-.94-2.06-.94 2.06-2.06.94z\"/><path d=\"M17.41 7.96l-1.37-1.37c-.4-.4-.92-.59-1.43-.59-.52 0-1.04.2-1.43.59L10.3 9.45l-7.72 7.72c-.78.78-.78 2.05 0 2.83L4 21.41c.39.39.9.59 1.41.59.51 0 1.02-.2 1.41-.59l7.78-7.78 2.81-2.81c.8-.78.8-2.07 0-2.86zM5.41 20L4 18.59l7.72-7.72 1.47 1.35L5.41 20z\"/>\n",
              "  </svg>\n",
              "      </button>\n",
              "      \n",
              "  <style>\n",
              "    .colab-df-container {\n",
              "      display:flex;\n",
              "      flex-wrap:wrap;\n",
              "      gap: 12px;\n",
              "    }\n",
              "\n",
              "    .colab-df-convert {\n",
              "      background-color: #E8F0FE;\n",
              "      border: none;\n",
              "      border-radius: 50%;\n",
              "      cursor: pointer;\n",
              "      display: none;\n",
              "      fill: #1967D2;\n",
              "      height: 32px;\n",
              "      padding: 0 0 0 0;\n",
              "      width: 32px;\n",
              "    }\n",
              "\n",
              "    .colab-df-convert:hover {\n",
              "      background-color: #E2EBFA;\n",
              "      box-shadow: 0px 1px 2px rgba(60, 64, 67, 0.3), 0px 1px 3px 1px rgba(60, 64, 67, 0.15);\n",
              "      fill: #174EA6;\n",
              "    }\n",
              "\n",
              "    [theme=dark] .colab-df-convert {\n",
              "      background-color: #3B4455;\n",
              "      fill: #D2E3FC;\n",
              "    }\n",
              "\n",
              "    [theme=dark] .colab-df-convert:hover {\n",
              "      background-color: #434B5C;\n",
              "      box-shadow: 0px 1px 3px 1px rgba(0, 0, 0, 0.15);\n",
              "      filter: drop-shadow(0px 1px 2px rgba(0, 0, 0, 0.3));\n",
              "      fill: #FFFFFF;\n",
              "    }\n",
              "  </style>\n",
              "\n",
              "      <script>\n",
              "        const buttonEl =\n",
              "          document.querySelector('#df-2f22819a-3299-4e7d-8722-42146e131117 button.colab-df-convert');\n",
              "        buttonEl.style.display =\n",
              "          google.colab.kernel.accessAllowed ? 'block' : 'none';\n",
              "\n",
              "        async function convertToInteractive(key) {\n",
              "          const element = document.querySelector('#df-2f22819a-3299-4e7d-8722-42146e131117');\n",
              "          const dataTable =\n",
              "            await google.colab.kernel.invokeFunction('convertToInteractive',\n",
              "                                                     [key], {});\n",
              "          if (!dataTable) return;\n",
              "\n",
              "          const docLinkHtml = 'Like what you see? Visit the ' +\n",
              "            '<a target=\"_blank\" href=https://colab.research.google.com/notebooks/data_table.ipynb>data table notebook</a>'\n",
              "            + ' to learn more about interactive tables.';\n",
              "          element.innerHTML = '';\n",
              "          dataTable['output_type'] = 'display_data';\n",
              "          await google.colab.output.renderOutput(dataTable, element);\n",
              "          const docLink = document.createElement('div');\n",
              "          docLink.innerHTML = docLinkHtml;\n",
              "          element.appendChild(docLink);\n",
              "        }\n",
              "      </script>\n",
              "    </div>\n",
              "  </div>\n",
              "  "
            ],
            "text/plain": [
              "       Dis_id  Drug_id         Score\n",
              "151  C0206750  DB01234  [0.97374773]\n",
              "406  C0206750  DB00959   [0.9699562]\n",
              "82   C0206750  DB01394  [0.96028805]\n",
              "205  C0206750  DB00608    [0.955688]\n",
              "177  C0206750  DB00207    [0.914545]\n",
              "287  C0206750  DB08868  [0.90901476]\n",
              "237  C0206750  DB01050  [0.86170983]"
            ]
          },
          "execution_count": 33,
          "metadata": {},
          "output_type": "execute_result"
        }
      ],
      "source": [
        "df = SCOR_PD.loc[SCOR_PD[\"Drug_id\"].isin(my_covid_drug)]\n",
        "df"
      ]
    },
    {
      "cell_type": "code",
      "execution_count": 34,
      "metadata": {
        "colab": {
          "base_uri": "https://localhost:8080/",
          "height": 204
        },
        "id": "fA6H2QuM3j6w",
        "outputId": "6b011c06-5831-430b-da29-73ecc663bbba"
      },
      "outputs": [
        {
          "data": {
            "text/html": [
              "\n",
              "  <div id=\"df-078a4443-7315-4902-88ad-8e51ef88a550\">\n",
              "    <div class=\"colab-df-container\">\n",
              "      <div>\n",
              "<style scoped>\n",
              "    .dataframe tbody tr th:only-of-type {\n",
              "        vertical-align: middle;\n",
              "    }\n",
              "\n",
              "    .dataframe tbody tr th {\n",
              "        vertical-align: top;\n",
              "    }\n",
              "\n",
              "    .dataframe thead th {\n",
              "        text-align: right;\n",
              "    }\n",
              "</style>\n",
              "<table border=\"1\" class=\"dataframe\">\n",
              "  <thead>\n",
              "    <tr style=\"text-align: right;\">\n",
              "      <th></th>\n",
              "      <th>Dis_id</th>\n",
              "      <th>Drug_id</th>\n",
              "      <th>Score</th>\n",
              "    </tr>\n",
              "  </thead>\n",
              "  <tbody>\n",
              "    <tr>\n",
              "      <th>336</th>\n",
              "      <td>C0206750</td>\n",
              "      <td>DB06203</td>\n",
              "      <td>[0.9642851]</td>\n",
              "    </tr>\n",
              "    <tr>\n",
              "      <th>242</th>\n",
              "      <td>C0206750</td>\n",
              "      <td>DB04876</td>\n",
              "      <td>[0.96110183]</td>\n",
              "    </tr>\n",
              "    <tr>\n",
              "      <th>148</th>\n",
              "      <td>C0206750</td>\n",
              "      <td>DB06335</td>\n",
              "      <td>[0.95970964]</td>\n",
              "    </tr>\n",
              "    <tr>\n",
              "      <th>232</th>\n",
              "      <td>C0206750</td>\n",
              "      <td>DB08882</td>\n",
              "      <td>[0.9376126]</td>\n",
              "    </tr>\n",
              "    <tr>\n",
              "      <th>15</th>\n",
              "      <td>C0206750</td>\n",
              "      <td>DB01261</td>\n",
              "      <td>[0.876006]</td>\n",
              "    </tr>\n",
              "  </tbody>\n",
              "</table>\n",
              "</div>\n",
              "      <button class=\"colab-df-convert\" onclick=\"convertToInteractive('df-078a4443-7315-4902-88ad-8e51ef88a550')\"\n",
              "              title=\"Convert this dataframe to an interactive table.\"\n",
              "              style=\"display:none;\">\n",
              "        \n",
              "  <svg xmlns=\"http://www.w3.org/2000/svg\" height=\"24px\"viewBox=\"0 0 24 24\"\n",
              "       width=\"24px\">\n",
              "    <path d=\"M0 0h24v24H0V0z\" fill=\"none\"/>\n",
              "    <path d=\"M18.56 5.44l.94 2.06.94-2.06 2.06-.94-2.06-.94-.94-2.06-.94 2.06-2.06.94zm-11 1L8.5 8.5l.94-2.06 2.06-.94-2.06-.94L8.5 2.5l-.94 2.06-2.06.94zm10 10l.94 2.06.94-2.06 2.06-.94-2.06-.94-.94-2.06-.94 2.06-2.06.94z\"/><path d=\"M17.41 7.96l-1.37-1.37c-.4-.4-.92-.59-1.43-.59-.52 0-1.04.2-1.43.59L10.3 9.45l-7.72 7.72c-.78.78-.78 2.05 0 2.83L4 21.41c.39.39.9.59 1.41.59.51 0 1.02-.2 1.41-.59l7.78-7.78 2.81-2.81c.8-.78.8-2.07 0-2.86zM5.41 20L4 18.59l7.72-7.72 1.47 1.35L5.41 20z\"/>\n",
              "  </svg>\n",
              "      </button>\n",
              "      \n",
              "  <style>\n",
              "    .colab-df-container {\n",
              "      display:flex;\n",
              "      flex-wrap:wrap;\n",
              "      gap: 12px;\n",
              "    }\n",
              "\n",
              "    .colab-df-convert {\n",
              "      background-color: #E8F0FE;\n",
              "      border: none;\n",
              "      border-radius: 50%;\n",
              "      cursor: pointer;\n",
              "      display: none;\n",
              "      fill: #1967D2;\n",
              "      height: 32px;\n",
              "      padding: 0 0 0 0;\n",
              "      width: 32px;\n",
              "    }\n",
              "\n",
              "    .colab-df-convert:hover {\n",
              "      background-color: #E2EBFA;\n",
              "      box-shadow: 0px 1px 2px rgba(60, 64, 67, 0.3), 0px 1px 3px 1px rgba(60, 64, 67, 0.15);\n",
              "      fill: #174EA6;\n",
              "    }\n",
              "\n",
              "    [theme=dark] .colab-df-convert {\n",
              "      background-color: #3B4455;\n",
              "      fill: #D2E3FC;\n",
              "    }\n",
              "\n",
              "    [theme=dark] .colab-df-convert:hover {\n",
              "      background-color: #434B5C;\n",
              "      box-shadow: 0px 1px 3px 1px rgba(0, 0, 0, 0.15);\n",
              "      filter: drop-shadow(0px 1px 2px rgba(0, 0, 0, 0.3));\n",
              "      fill: #FFFFFF;\n",
              "    }\n",
              "  </style>\n",
              "\n",
              "      <script>\n",
              "        const buttonEl =\n",
              "          document.querySelector('#df-078a4443-7315-4902-88ad-8e51ef88a550 button.colab-df-convert');\n",
              "        buttonEl.style.display =\n",
              "          google.colab.kernel.accessAllowed ? 'block' : 'none';\n",
              "\n",
              "        async function convertToInteractive(key) {\n",
              "          const element = document.querySelector('#df-078a4443-7315-4902-88ad-8e51ef88a550');\n",
              "          const dataTable =\n",
              "            await google.colab.kernel.invokeFunction('convertToInteractive',\n",
              "                                                     [key], {});\n",
              "          if (!dataTable) return;\n",
              "\n",
              "          const docLinkHtml = 'Like what you see? Visit the ' +\n",
              "            '<a target=\"_blank\" href=https://colab.research.google.com/notebooks/data_table.ipynb>data table notebook</a>'\n",
              "            + ' to learn more about interactive tables.';\n",
              "          element.innerHTML = '';\n",
              "          dataTable['output_type'] = 'display_data';\n",
              "          await google.colab.output.renderOutput(dataTable, element);\n",
              "          const docLink = document.createElement('div');\n",
              "          docLink.innerHTML = docLinkHtml;\n",
              "          element.appendChild(docLink);\n",
              "        }\n",
              "      </script>\n",
              "    </div>\n",
              "  </div>\n",
              "  "
            ],
            "text/plain": [
              "       Dis_id  Drug_id         Score\n",
              "336  C0206750  DB06203   [0.9642851]\n",
              "242  C0206750  DB04876  [0.96110183]\n",
              "148  C0206750  DB06335  [0.95970964]\n",
              "232  C0206750  DB08882   [0.9376126]\n",
              "15   C0206750  DB01261    [0.876006]"
            ]
          },
          "execution_count": 34,
          "metadata": {},
          "output_type": "execute_result"
        }
      ],
      "source": [
        "df2 = SCOR_PD.loc[SCOR_PD[\"Drug_id\"].isin(gliptins)]\n",
        "df2"
      ]
    }
  ],
  "metadata": {
    "accelerator": "GPU",
    "colab": {
      "collapsed_sections": [
        "OZEjehlD9jb3",
        "E4DPQo6ciHJF",
        "OaA0Bji6NsEi",
        "Vkx6IPHxtWty",
        "BVm5hdaR-BhZ",
        "2VbrpqNw6cDq",
        "YOMdcp3u5hQI",
        "iv0gfj8cLzOB",
        "mGIA9oFoMS_o",
        "4ocxfgkg4f73",
        "D1GhuQZ-I5-F",
        "l6age1x3ZFpk",
        "sCs2OJFUpPsP",
        "aVuY5FiCvt_A"
      ],
      "provenance": []
    },
    "gpuClass": "standard",
    "kernelspec": {
      "display_name": "Python 3",
      "name": "python3"
    },
    "language_info": {
      "name": "python"
    }
  },
  "nbformat": 4,
  "nbformat_minor": 0
}
